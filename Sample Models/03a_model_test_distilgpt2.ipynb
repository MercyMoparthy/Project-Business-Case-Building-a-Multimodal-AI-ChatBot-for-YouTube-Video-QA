{
 "cells": [
  {
   "cell_type": "markdown",
   "id": "84c9e2a5",
   "metadata": {},
   "source": [
    "## Model: distilgpt2\n",
    "* Embedding - all-MiniLM-L6-v2 Model\n",
    "* Vectorizing - FAISS\n",
    "* LLM Pipeline - distilgpt2 Model"
   ]
  },
  {
   "cell_type": "markdown",
   "id": "8f13b588",
   "metadata": {},
   "source": [
    "## Step1: Import Libraries"
   ]
  },
  {
   "cell_type": "code",
   "execution_count": 1,
   "id": "e3ab7901",
   "metadata": {},
   "outputs": [],
   "source": [
    "import os\n",
    "import logging\n",
    "from sentence_transformers import SentenceTransformer\n",
    "from langchain.prompts import PromptTemplate\n",
    "from transformers import pipeline\n",
    "from langchain_community.vectorstores import FAISS\n",
    "from langchain_community.embeddings import HuggingFaceEmbeddings"
   ]
  },
  {
   "cell_type": "markdown",
   "id": "bf474897",
   "metadata": {},
   "source": [
    "## Step2: Embedding & Vectorizer"
   ]
  },
  {
   "cell_type": "code",
   "execution_count": 2,
   "id": "98469973",
   "metadata": {},
   "outputs": [
    {
     "name": "stderr",
     "output_type": "stream",
     "text": [
      "C:\\Users\\Mercy\\AppData\\Local\\Temp\\ipykernel_4864\\3611171453.py:1: LangChainDeprecationWarning: The class `HuggingFaceEmbeddings` was deprecated in LangChain 0.2.2 and will be removed in 1.0. An updated version of the class exists in the :class:`~langchain-huggingface package and should be used instead. To use it run `pip install -U :class:`~langchain-huggingface` and import as `from :class:`~langchain_huggingface import HuggingFaceEmbeddings``.\n",
      "  embedding_model = HuggingFaceEmbeddings(model_name=\"all-MiniLM-L6-v2\")\n"
     ]
    }
   ],
   "source": [
    "embedding_model = HuggingFaceEmbeddings(model_name=\"all-MiniLM-L6-v2\")\n",
    "faiss_index = FAISS.load_local(\"../faiss_store\", embedding_model, allow_dangerous_deserialization=True)\n",
    "\n",
    "def retrieve_chunks(query, top_k=5):\n",
    "    docs = faiss_index.similarity_search(query, k=top_k)\n",
    "    return [doc.page_content for doc in docs]"
   ]
  },
  {
   "cell_type": "markdown",
   "id": "08af7989",
   "metadata": {},
   "source": [
    "## Step3: Model"
   ]
  },
  {
   "cell_type": "code",
   "execution_count": 3,
   "id": "c11a0843",
   "metadata": {},
   "outputs": [
    {
     "name": "stdout",
     "output_type": "stream",
     "text": [
      "Query: What is an AI agent in ServiceNow?\n",
      "Response: that but I think it would be important to know that you are only looking at the specific element that you know in the same way that you know in the same way that the agent is working but that you don‿t know the details behind the information that you are looking at. We do not know how the agent is going to work but we do know that what you are looking at is that it will be useful to you to continue with that.\n",
      "So what about the idea that you could just use a script for the project manager and then use it like that yourself but not with any kind of scripts to get the information that you want from the project manager and it will be useful to you.\n",
      "So what I think about the idea is that the idea that you could just use a script for the project manager and then use it like that yourself but not with any kind of scripts to get the information that you want from the project manager and it will be useful to you.\n",
      "So what about the idea that you could just use a script for the project manager and then use it like that yourself but not with any kind of scripts to get the information that you want from the project manager and it will be useful to you.\n",
      "So what about the idea that you could\n"
     ]
    }
   ],
   "source": [
    "def generate_response(query, chunks):\n",
    "    \"\"\"Generate response using retrieved chunks and a lightweight LLM.\"\"\"\n",
    "    context = \"\\n\".join(chunks) if chunks else \"No relevant information found.\"\n",
    "    prompt_template = PromptTemplate(\n",
    "        input_variables=[\"context\", \"query\"],\n",
    "        template=\"Based on the following context, answer the query concisely:\\nContext: {context}\\nQuery: {query}\\nAnswer:\"\n",
    "    )\n",
    "    prompt = prompt_template.format(context=context, query=query)\n",
    "    try:\n",
    "        llm = pipeline('text-generation', model='distilgpt2', device=-1)\n",
    "        response = llm(prompt, max_length=150, truncation=True, do_sample=True, num_return_sequences=1)[0]['generated_text']\n",
    "        answer = response.split('Answer:')[-1].strip() if 'Answer:' in response else response.strip()\n",
    "    except Exception as e:\n",
    "        logging.error(f'LLM request failed: {e}')\n",
    "        answer = \"Error generating response. Using context directly:\\n\" + context[:200]\n",
    "    \n",
    "    logging.info(f'Generated response for query: {query}')\n",
    "    return answer\n",
    "logging.getLogger(\"langchain_community.vectorstores\").setLevel(logging.ERROR)\n",
    "logging.getLogger(\"transformers\").setLevel(logging.ERROR)\n",
    "query = \"What is an AI agent in ServiceNow?\"\n",
    "chunks = retrieve_chunks(query)\n",
    "response = generate_response(query, chunks)\n",
    "print(f\"Query: {query}\")\n",
    "print(f\"Response: {response}\")"
   ]
  },
  {
   "cell_type": "markdown",
   "id": "ef6ebb22",
   "metadata": {},
   "source": [
    "## Step 4: Test Queries"
   ]
  },
  {
   "cell_type": "code",
   "execution_count": null,
   "id": "98557afb",
   "metadata": {},
   "outputs": [
    {
     "name": "stdout",
     "output_type": "stream",
     "text": [
      "Q: What is ITSM in ServiceNow?\n",
      "A: So you are able to use the service in your app to add the service to your app and add the service. So you will not need to add the service to your app, but instead you can add your service to your app and add the service to your app and add the service to your app and add the service to your app and add the service to your app and add the service to your app and add the service to your app and add the service to your app and add the service to your app and add the service to your app and add the service to your app and add the service to your app and add the service to your app and add the service to your app and add the service to your app and add the service to your app and add the service to your app and add the service to your app and add the service to your app and add the service to your app and add the service to your app and add the service to your app and add the service to your app and add the service to your app and add the service to your app and add the service to your app and add the service to your app and add the service to your app and add the service to your app and add the service to your app and add the service to\n",
      "\n"
     ]
    }
   ],
   "source": [
    "test_queries = [\n",
    "    \"What is ITSM in ServiceNow?\"\n",
    "]\n",
    "\n",
    "for query in test_queries:\n",
    "    chunks = retrieve_chunks(query)\n",
    "    result = generate_response(query, chunks)\n",
    "    print(f\"Q: {query}\\nA: {result}\\n\")"
   ]
  },
  {
   "cell_type": "code",
   "execution_count": 5,
   "id": "8af15871",
   "metadata": {},
   "outputs": [
    {
     "name": "stdout",
     "output_type": "stream",
     "text": [
      "Q: Explain CMDB relationships.\n",
      "A: to get the latest update and a good set of procedures and so it will be the best thing for the job. The next part was a lot of a post on how to use a PowerShell cmdb as an advanced tool that would solve the problem of having to write cmdb like i mentioned earlier.\n",
      "So this is a good idea to start with the following step and we are going to cover it with a little more detail.\n",
      "What I will say for this post is that this is a very simple concept and it can be used to give a cmdb a lot of information. Then you can also have a better idea of what you should do.\n",
      "Step 1: Create a PowerShell cmdb with a PowerShell cmdb and create a PowerShell cmdb where you can use the cmdb to find resources for the cmdb and also see how many resources you need to create a PowerShell cmdb.\n",
      "Step 2: Create a PowerShell cmdb with a PowerShell cmdb and create a PowerShell cmdb with a PowerShell cmdb.\n",
      "Step 3: Create a PowerShell cmdb with a PowerShell cmdb.\n",
      "Step 4: Create a PowerShell cmdb with a PowerShell cmdb.\n",
      "Step 5: Create a PowerShell cmdb.\n",
      "Step 6: Create a PowerShell cmdb.\n",
      "\n"
     ]
    }
   ],
   "source": [
    "logging.getLogger(\"langchain_community.vectorstores\").setLevel(logging.ERROR)\n",
    "logging.getLogger(\"transformers\").setLevel(logging.ERROR)\n",
    "test_queries = [\n",
    "    \"Explain CMDB relationships.\"\n",
    "]\n",
    "\n",
    "for query in test_queries:\n",
    "    chunks = retrieve_chunks(query)\n",
    "    result = generate_response(query, chunks)\n",
    "    print(f\"Q: {query}\\nA: {result}\\n\")"
   ]
  },
  {
   "cell_type": "code",
   "execution_count": 13,
   "id": "f1069745",
   "metadata": {},
   "outputs": [
    {
     "name": "stdout",
     "output_type": "stream",
     "text": [
      "Q: How does Incident Management work?\n",
      "A: in the previous two miniseries the first time this was an issue.\n",
      "This is a very important one that was taken especially seriously when I first started to think about the need to be proactive and reactive about the type of issue and how to ensure that the best solution to this problem is available and not only do you not need to be reactive but you need to be proactive and proactive and proactive.\n",
      "The first question I found was how can we stop the migration of a data flow from using a system that also has a single data migration for the main purpose of using the service that is the data center.\n",
      "The first question I asked was how can we control the data flow for the main purpose of the data center.\n",
      "I was the first person on the team who was a part of the solution to this problem and then we were told that in the first part it was hard to get the data from the data center and the data center was not available.\n",
      "The second question was of how can we control the data flow for the main purpose of the data center.\n",
      "I was the first person on the team who was a part of the solution to this problem and then we were told that in the first part it was hard to get the data from the data center and\n",
      "\n"
     ]
    }
   ],
   "source": [
    "logging.getLogger(\"langchain_community.vectorstores\").setLevel(logging.ERROR)\n",
    "logging.getLogger(\"transformers\").setLevel(logging.ERROR)\n",
    "test_queries = [\n",
    "    \"How does Incident Management work?\"\n",
    "]\n",
    "\n",
    "for query in test_queries:\n",
    "    chunks = retrieve_chunks(query)\n",
    "    result = generate_response(query, chunks)\n",
    "    print(f\"Q: {query}\\nA: {result}\\n\")\n",
    "    #model_answer = result['answer']"
   ]
  },
  {
   "cell_type": "markdown",
   "id": "47f94046",
   "metadata": {},
   "source": [
    "## Results Evaluation"
   ]
  },
  {
   "cell_type": "code",
   "execution_count": null,
   "id": "4a97b5cd",
   "metadata": {},
   "outputs": [],
   "source": [
    "PROJECT_ROOT = r\"c:\\Users\\Mercy\\OneDrive\\Documents\\ServiceNow classes\\OneDrive\\Project-Business-Case-Building-a-Multimodal-AI-ChatBot-for-YouTube-Video-QA\"\n",
    "RESULTS_DIR = os.path.join(PROJECT_ROOT, 'results')\n",
    "os.makedirs(RESULTS_DIR, exist_ok=True)\n",
    "OUTPUT_FILE = os.path.join(RESULTS_DIR, 'model_outputs.csv')\n",
    "print(\"Will save results to:\", OUTPUT_FILE)"
   ]
  },
  {
   "cell_type": "code",
   "execution_count": null,
   "id": "6f1e47b3",
   "metadata": {},
   "outputs": [],
   "source": [
    "print(\"Current working directory:\", os.getcwd())\n",
    "print(\"Writing results to:\", OUTPUT_FILE)"
   ]
  },
  {
   "cell_type": "code",
   "execution_count": null,
   "id": "ab263802",
   "metadata": {},
   "outputs": [],
   "source": [
    "import csv\n",
    "from datetime import datetime\n",
    "\n",
    "def log_model_output(\n",
    "    notebook,\n",
    "    query,\n",
    "    model_answer,\n",
    "    output_file= OUTPUT_FILE,\n",
    "    additional_fields=None\n",
    "):\n",
    "    # Compose data row\n",
    "    timestamp = datetime.now().isoformat()\n",
    "    row = {\n",
    "        'timestamp': timestamp,\n",
    "        'notebook': notebook,\n",
    "        'query': query,\n",
    "        'model_answer': model_answer\n",
    "    }\n",
    "    # Add additional fields if provided\n",
    "    if additional_fields:\n",
    "        row.update(additional_fields)\n",
    "    # Write header if file does not exist\n",
    "    os.makedirs(os.path.dirname(output_file), exist_ok=True)\n",
    "    file_exists = os.path.isfile(output_file)\n",
    "    with open(output_file, 'a', newline='', encoding='utf-8') as f:\n",
    "        writer = csv.DictWriter(f, fieldnames=row.keys())\n",
    "        if not file_exists:\n",
    "            writer.writeheader()\n",
    "        writer.writerow(row)\n"
   ]
  },
  {
   "cell_type": "code",
   "execution_count": 18,
   "id": "a3ce8fb3",
   "metadata": {},
   "outputs": [
    {
     "name": "stdout",
     "output_type": "stream",
     "text": [
      "Q: What is ITSM in ServiceNow?\n",
      "A: ui but it is good to know your current plan is going to be on a different platform that is on a different platform that is on a different platform that is on a different platform that is on a different platform that is on a different platform that is on a different platform that is on a different platform that is on a different platform that is on a different platform that is on a different platform that is on a different platform that is on a different platform that is on a different platform that has a different platform that has a different platform that is on a different platform that is on a different platform that is on a different platform that is on a different platform that is on a different platform that is on a different platform that is on a different platform that is on a different platform that is on a different platform that is on a different platform that is on a different platform that is on a different platform that is on a different platform that is on a different platform that is on a different platform that is on a different platform that is on a different platform that is on a different platform that is on a different platform that is on a different platform that is on a different platform that is on a different platform that is on a different platform that is on a different platform that is on a different\n",
      "\n",
      "Q: Explain CMDB relationships.\n",
      "A: for all the right kind of operations.\n",
      "You can also find this blog post by @sjeffs.\n",
      "\n",
      "Q: How does Incident Management work?\n",
      "A: in the first part of this book.\n",
      "The focus of this book is to clarify the role of the service in the development of a product as a whole and to provide the insight into the relationship between the services being used for the purpose of the service. The key to this book is to clarify the role of the service in the development of a product as a whole and to provide the insight into the relationship between the services being used for the purpose of the service.\n",
      "The key to this book is to clarify the role of the service in the development of a product as a whole and to provide the insight into the relationship between the services being used for the purpose of the service.\n",
      "The key to this book is to clarify the role of the service in the development of a product as a whole and to provide the insight into the relationship between the services being used for the purpose of the service. The key to this book is to clarify the role of the service in the development of a product as a whole and to provide the insight into the relationship between the services being used for the purpose of the service.\n",
      "The key to this book is to clarify the role of the service in the development of a product as a whole and to provide the insight into the relationship between the services being\n",
      "\n"
     ]
    }
   ],
   "source": [
    "import logging\n",
    "logging.getLogger(\"langchain_community.vectorstores\").setLevel(logging.ERROR)\n",
    "logging.getLogger(\"transformers\").setLevel(logging.ERROR)\n",
    "test_queries = [\n",
    "    \"What is ITSM in ServiceNow?\",\n",
    "    \"Explain CMDB relationships.\",\n",
    "    \"How does Incident Management work?\"\n",
    "]\n",
    "for query in test_queries:\n",
    "    chunks = retrieve_chunks(query)\n",
    "    result = generate_response(query, chunks)\n",
    "    model_answer = result \n",
    "    print(f\"Q: {query}\\nA: {model_answer}\\n\")\n",
    "\n",
    "    log_model_output(\n",
    "        notebook='03a_model_test_distilgpt2',\n",
    "        query=query,\n",
    "        model_answer=model_answer\n",
    "    )"
   ]
  },
  {
   "cell_type": "markdown",
   "id": "2cfc7310",
   "metadata": {},
   "source": [
    "## Metrics"
   ]
  },
  {
   "cell_type": "code",
   "execution_count": null,
   "id": "b7346a23",
   "metadata": {},
   "outputs": [],
   "source": [
    "questions = [\n",
    "    \"What is ServiceNow CMDB?\",\n",
    "    \"How do you create an incident?\",\n",
    "    \"What is the purpose of Service Catalog?\"\n",
    "]\n",
    "\n",
    "reference_answers = [\n",
    "    \"ITSM (IT Service Management) in ServiceNow refers to the strategic approach for designing, delivering, managing, and improving the way IT is used within an organization. ServiceNow ITSM offers a cloud-based platform to automate and streamline core IT processes such as Incident Management, Problem Management, Change Management, Request Fulfillment, and Knowledge Management. It enhances service quality, reduces operational costs, and improves user satisfaction through intelligent workflows, analytics, and a centralized service portal. ITSM in ServiceNow aligns IT services with business goals, ensuring efficient and consistent service delivery.\",\n",
    "    \"CMDB (Configuration Management Database) relationships in ServiceNow define how Configuration Items (CIs) are connected and interact with each other. These relationships help build a dependency map that visually represents infrastructure, services, and their interconnections. Common relationship types include \"Depends on / Used by,\" \"Runs on / Hosted on,\" and \"Connected to.\" For example, an application may run on a server, which in turn depends on a specific database. These relationships are essential for impact analysis, change planning, and root cause analysis, enabling IT teams to understand how changes or incidents affect related systems.\",\n",
    "    \"Incident Management in ServiceNow focuses on restoring normal service operations as quickly as possible after an unplanned interruption. When an incident is reported—via the service portal, email, or phone—it is automatically logged and categorized. The system assigns priority based on impact and urgency, then routes the ticket to the appropriate support group. Technicians investigate, resolve the issue, and document the resolution. Users are kept informed through notifications. Once resolved, the incident is closed after verification. Incident Management helps minimize downtime, improves user satisfaction, and provides valuable data for trend analysis and continual service improvement.\"\n",
    "]"
   ]
  },
  {
   "cell_type": "code",
   "execution_count": 20,
   "id": "685f2a7f",
   "metadata": {},
   "outputs": [],
   "source": [
    "model_answers = [\n",
    "    \"ui but it is good to know your current plan is going to be on a different platform that is on a different platform that is on a different platform that is on a different platform that is on a different platform that is on a different platform that is on a different platform that is on a different platform that is on a different platform that is on a different platform that is on a different platform that is on a different platform that is on a different platform that is on a different platform that has a different platform that has a different platform that is on a different platform that is on a different platform that is on a different platform that is on a different platform that is on a different platform that is on a different platform that is on a different platform that is on a different platform that is on a different platform that is on a different platform that is on a different platform that is on a different platform that is on a different platform that is on a different platform that is on a different platform that is on a different platform that is on a different platform that is on a different platform that is on a different platform that is on a different platform that is on a different platform that is on a different platform that is on a different platform that is on a different platform that is on a different\",\n",
    "    \"for all the right kind of operations.You can also find this blog post by @sjeffs.\",\n",
    "    \"in the first part of this book.The focus of this book is to clarify the role of the service in the development of a product as a whole and to provide the insight into the relationship between the services being used for the purpose of the service. The key to this book is to clarify the role of the service in the development of a product as a whole and to provide the insight into the relationship between the services being used for the purpose of the service.The key to this book is to clarify the role of the service in the development of a product as a whole and to provide the insight into the relationship between the services being used for the purpose of the service.The key to this book is to clarify the role of the service in the development of a product as a whole and to provide the insight into the relationship between the services being used for the purpose of the service. The key to this book is to clarify the role of the service in the development of a product as a whole and to provide the insight into the relationship between the services being used for the purpose of the service.The key to this book is to clarify the role of the service in the development of a product as a whole and to provide the insight into the relationship between the services being\"\n",
    "]\n"
   ]
  },
  {
   "cell_type": "code",
   "execution_count": 25,
   "id": "dfabb2b8",
   "metadata": {},
   "outputs": [],
   "source": [
    "def exact_match(prediction, reference):\n",
    "    \"\"\"Returns 1 if the prediction matches the reference exactly (case-insensitive, stripped), else 0.\"\"\"\n",
    "    return int(prediction.strip().lower() == reference.strip().lower())\n",
    "\n",
    "def f1_score(prediction, reference):\n",
    "    \"\"\"Compute token-level F1 score between prediction and reference.\"\"\"\n",
    "    pred_tokens = prediction.lower().split()\n",
    "    ref_tokens = reference.lower().split()\n",
    "    common = set(pred_tokens) & set(ref_tokens)\n",
    "    if not common:\n",
    "        return 0.0\n",
    "    precision = len(common) / len(pred_tokens)\n",
    "    recall = len(common) / len(ref_tokens)\n",
    "    if precision + recall == 0:\n",
    "        return 0.0\n",
    "    return 2 * (precision * recall) / (precision + recall)\n",
    "\n",
    "def rouge_l_score(prediction, reference):\n",
    "    \"\"\"Compute a simple ROUGE-L score based on longest common subsequence.\"\"\"\n",
    "    def lcs(X, Y):\n",
    "        m = len(X)\n",
    "        n = len(Y)\n",
    "        dp = [[0] * (n + 1) for _ in range(m + 1)]\n",
    "        for i in range(m):\n",
    "            for j in range(n):\n",
    "                if X[i] == Y[j]:\n",
    "                    dp[i + 1][j + 1] = dp[i][j] + 1\n",
    "                else:\n",
    "                    dp[i + 1][j + 1] = max(dp[i][j + 1], dp[i + 1][j])\n",
    "        return dp[m][n]\n",
    "    pred_tokens = prediction.lower().split()\n",
    "    ref_tokens = reference.lower().split()\n",
    "    lcs_len = lcs(pred_tokens, ref_tokens)\n",
    "    if len(ref_tokens) == 0 or len(pred_tokens) == 0:\n",
    "        return 0.0\n",
    "    recall = lcs_len / len(ref_tokens)\n",
    "    precision = lcs_len / len(pred_tokens)\n",
    "    if recall + precision == 0:\n",
    "        return 0.0\n",
    "    return 2 * recall * precision / (recall + precision)\n",
    "\n",
    "def bleu_score(prediction, reference):\n",
    "    \"\"\"Compute a simple BLEU-1 score (unigram precision).\"\"\"\n",
    "    pred_tokens = prediction.lower().split()\n",
    "    ref_tokens = reference.lower().split()\n",
    "    if not pred_tokens or not ref_tokens:\n",
    "        return 0.0\n",
    "    matches = sum(1 for token in pred_tokens if token in ref_tokens)\n",
    "    return matches / len(pred_tokens)\n",
    "\n",
    "audio_filename = None  # or set to a placeholder string if needed\n",
    "\n",
    "for question, ref_answer in zip(questions, reference_answers):\n",
    "    # Retrieve relevant chunks for the question\n",
    "    chunks = retrieve_chunks(question)\n",
    "    answer = generate_response(question, chunks)\n",
    "    em = exact_match(answer, ref_answer)\n",
    "    f1 = f1_score(answer, ref_answer)\n",
    "    rouge = rouge_l_score(answer, ref_answer)\n",
    "    bleu = bleu_score(answer, ref_answer)\n",
    "    # Remove confidence since generate_response does not return it\n",
    "    log_model_output(\n",
    "        notebook='03a_model_test_distilgpt2',\n",
    "        query=question,\n",
    "        model_answer=answer,\n",
    "        additional_fields={'em': em, 'f1': f1, 'rougeL': rouge, 'bleu': bleu}\n",
    "    )"
   ]
  }
 ],
 "metadata": {
  "kernelspec": {
   "display_name": "Python 3",
   "language": "python",
   "name": "python3"
  },
  "language_info": {
   "codemirror_mode": {
    "name": "ipython",
    "version": 3
   },
   "file_extension": ".py",
   "mimetype": "text/x-python",
   "name": "python",
   "nbconvert_exporter": "python",
   "pygments_lexer": "ipython3",
   "version": "3.10.11"
  }
 },
 "nbformat": 4,
 "nbformat_minor": 5
}
