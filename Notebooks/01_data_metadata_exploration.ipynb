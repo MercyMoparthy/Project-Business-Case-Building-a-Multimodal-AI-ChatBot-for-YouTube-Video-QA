{
 "cells": [
  {
   "cell_type": "markdown",
   "id": "ffe8b7a6",
   "metadata": {},
   "source": [
    "## Youtube Video Data Exploration\n",
    "SCOPE: This project aims to build a Retrieval-Augmented Generation (RAG) chatbot that answers user questions based on transcribed content from ServiceNow YouTube videos using both text and audio inputs.\n",
    "\n",
    "Steps Performed:\n",
    "* Loads Youtube Video Metadata - total 22 Video files\n",
    "    * Files Used: SNOW_YT_Videos.csv\n",
    "    * Created File: ServiceNow_Youtube_Metadata_Clean.csv\n",
    "* Transcripting MetaData\n",
    "    * Files Used: ServiceNow_Youtube_Metadata_Clean.csv\n",
    "    * Created File: video_metadata_with_transcripts-csv"
   ]
  },
  {
   "cell_type": "markdown",
   "id": "eedfe235",
   "metadata": {},
   "source": [
    "## Step 1: Import Libraries and Load CSV File"
   ]
  },
  {
   "cell_type": "code",
   "execution_count": 1,
   "id": "fad61a6c",
   "metadata": {},
   "outputs": [
    {
     "name": "stdout",
     "output_type": "stream",
     "text": [
      "Requirement already satisfied: yt-dlp in c:\\users\\mercy\\.pyenv\\pyenv-win\\versions\\3.10.11\\lib\\site-packages (2025.6.9)\n",
      "Note: you may need to restart the kernel to use updated packages.\n",
      "Note: you may need to restart the kernel to use updated packages.\n",
      "Note: you may need to restart the kernel to use updated packages.\n"
     ]
    }
   ],
   "source": [
    "%pip install yt-dlp\n",
    "%pip install pandas numpy --quiet\n",
    "%pip install openai-whisper --quiet"
   ]
  },
  {
   "cell_type": "code",
   "execution_count": 1,
   "id": "ad51fd6f",
   "metadata": {},
   "outputs": [],
   "source": [
    "import pandas as pd\n",
    "import numpy as np\n",
    "import os\n",
    "import yt_dlp\n",
    "import whisper"
   ]
  },
  {
   "cell_type": "code",
   "execution_count": 7,
   "id": "6a87ff96",
   "metadata": {},
   "outputs": [
    {
     "name": "stdout",
     "output_type": "stream",
     "text": [
      "   Number                                 Youtube_link  \\\n",
      "0       1  https://www.youtube.com/watch?v=tOaMRG8DX3U   \n",
      "1       2  https://www.youtube.com/watch?v=vteLoWpNw8Q   \n",
      "2       3  https://www.youtube.com/watch?v=7WJ6lmxa1WQ   \n",
      "3       4  https://www.youtube.com/watch?v=fqB-NcZmqXo   \n",
      "4       5  https://www.youtube.com/watch?v=ZYJqkxGrNiI   \n",
      "\n",
      "                                             Subject  \n",
      "0  An AI Agent that knows everything about your P...  \n",
      "1          What Is Agentic AI and Why Should I Care?  \n",
      "2                     Agentic AI workflows for AIOps  \n",
      "3  ServiceNow's agentic AI framework explained: W...  \n",
      "4  AI and Business Agility: Enhancing Human Intel...  \n"
     ]
    }
   ],
   "source": [
    "os.environ[\"PATH\"] += os.pathsep + r\"C:\\ffmpeg-7.1.1-essentials_build\\bin\"\n",
    "df = pd.read_csv(\"../Data/SNOW_YT_Videos.csv\", sep=\";\")\n",
    "print(df.head())"
   ]
  },
  {
   "cell_type": "markdown",
   "id": "d2a037a8",
   "metadata": {},
   "source": [
    "## Convert Videos to MetaData"
   ]
  },
  {
   "cell_type": "code",
   "execution_count": 4,
   "id": "61b188e3",
   "metadata": {},
   "outputs": [
    {
     "name": "stderr",
     "output_type": "stream",
     "text": [
      "WARNING: [youtube] ThW6lPyYgYk: Some tv client https formats have been skipped as they are DRM protected. The current session may have an experiment that applies DRM to all videos on the tv client. See  https://github.com/yt-dlp/yt-dlp/issues/12563  for more details.\n",
      "WARNING: [youtube] ThW6lPyYgYk: Some web client https formats have been skipped as they are missing a url. YouTube is forcing SABR streaming for this client. See  https://github.com/yt-dlp/yt-dlp/issues/12482  for more details\n",
      "WARNING: [youtube] it1hcs5S1ks: Some tv client https formats have been skipped as they are DRM protected. The current session may have an experiment that applies DRM to all videos on the tv client. See  https://github.com/yt-dlp/yt-dlp/issues/12563  for more details.\n",
      "WARNING: [youtube] it1hcs5S1ks: Some web client https formats have been skipped as they are missing a url. YouTube is forcing SABR streaming for this client. See  https://github.com/yt-dlp/yt-dlp/issues/12482  for more details\n",
      "WARNING: [youtube:tab] YouTube said: INFO - 2 unavailable videos are hidden\n",
      "ERROR: [youtube] VFGAvNxaK4Q: Private video. Sign in if you've been granted access to this video. Use --cookies-from-browser or --cookies for the authentication. See  https://github.com/yt-dlp/yt-dlp/wiki/FAQ#how-do-i-pass-cookies-to-yt-dlp  for how to manually pass cookies. Also see  https://github.com/yt-dlp/yt-dlp/wiki/Extractors#exporting-youtube-cookies  for tips on effectively exporting YouTube cookies\n"
     ]
    }
   ],
   "source": [
    "os.makedirs(\"Data\", exist_ok=True)\n",
    "\n",
    "def get_metadata_yt_dlp(video_url):\n",
    "    ydl_opts = {'quiet': True, 'skip_download': True}\n",
    "    with yt_dlp.YoutubeDL(ydl_opts) as ydl:\n",
    "        try:\n",
    "            info = ydl.extract_info(video_url, download=False)\n",
    "            return {\n",
    "                \"title\": info.get(\"title\"),\n",
    "                \"channel\": info.get(\"uploader\"),\n",
    "                \"description\": info.get(\"description\", \"\")[:200],\n",
    "                \"length\": info.get(\"duration\"),\n",
    "                \"publish_date\": info.get(\"upload_date\"),\n",
    "                \"views\": info.get(\"view_count\")\n",
    "            }\n",
    "        except Exception as e:\n",
    "            return {\"error\": str(e)}\n",
    "\n",
    "metadata_list = [get_metadata_yt_dlp(link) for link in df[\"Youtube_link\"]]\n",
    "metadata_df = pd.DataFrame(metadata_list)\n",
    "final_df = pd.concat([df, metadata_df], axis=1)\n",
    "final_df.to_csv(\"../Data/ServiceNow_Youtube_Metadata_Clean.csv\", index=False)"
   ]
  },
  {
   "cell_type": "markdown",
   "id": "502105e7",
   "metadata": {},
   "source": [
    "## Transcripting MetaData"
   ]
  },
  {
   "cell_type": "code",
   "execution_count": 6,
   "id": "55405f4f",
   "metadata": {},
   "outputs": [
    {
     "name": "stdout",
     "output_type": "stream",
     "text": [
      "✅ Transcripts already exist. Skipping update.\n"
     ]
    }
   ],
   "source": [
    "import warnings\n",
    "warnings.filterwarnings(\"ignore\", message=\"FP16 is not supported on CPU; using FP32 instead\")\n",
    "df = pd.read_csv(\"../Data/ServiceNow_Youtube_Metadata_Clean.csv\", sep=\";\")\n",
    "output_path = \"../data/video_metadata_with_transcripts.csv\"\n",
    "\n",
    "if os.path.exists(output_path):\n",
    "    existing_df = pd.read_csv(output_path)\n",
    "    if \"transcript\" in existing_df.columns and not existing_df[\"transcript\"].isnull().all():\n",
    "        print(\"✅ Transcripts already exist. Skipping update.\")\n",
    "        final_df = existing_df\n",
    "    else:\n",
    "        print(\"⚠️ Existing file found but missing or empty transcripts. Using metadata to update.\")\n",
    "        final_df = df.copy()\n",
    "        run_update = True\n",
    "else:\n",
    "    print(\"📂 File not found. Creating transcript file from metadata.\")\n",
    "    final_df = df.copy()\n",
    "    run_update = True\n",
    "\n",
    "if 'run_update' in locals():\n",
    "    if \"transcript\" not in final_df.columns:\n",
    "        print(\"⚙️ No 'transcript' column found in metadata — creating empty column.\")\n",
    "        final_df[\"transcript\"] = \"\"  \n",
    "    \n",
    "    final_df.to_csv(output_path, index=False)\n",
    "    print(f\"✅ Metadata with transcripts saved to: {output_path}\")"
   ]
  }
 ],
 "metadata": {
  "kernelspec": {
   "display_name": "Python 3",
   "language": "python",
   "name": "python3"
  },
  "language_info": {
   "codemirror_mode": {
    "name": "ipython",
    "version": 3
   },
   "file_extension": ".py",
   "mimetype": "text/x-python",
   "name": "python",
   "nbconvert_exporter": "python",
   "pygments_lexer": "ipython3",
   "version": "3.10.11"
  }
 },
 "nbformat": 4,
 "nbformat_minor": 5
}
