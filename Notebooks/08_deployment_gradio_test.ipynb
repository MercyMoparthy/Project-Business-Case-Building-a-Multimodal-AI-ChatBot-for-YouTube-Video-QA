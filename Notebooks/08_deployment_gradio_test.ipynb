{
  "cells": [
    {
      "cell_type": "markdown",
      "metadata": {},
      "source": [
        "## Deployment Using Gradio for Text and Audio files"
      ]
    },
    {
      "cell_type": "markdown",
      "metadata": {},
      "source": [
        "## Step1: Import Libraries"
      ]
    },
    {
      "cell_type": "code",
      "execution_count": 1,
      "metadata": {
        "id": "Tl5t2-ViO2YV"
      },
      "outputs": [],
      "source": [
        "!pip install -U langchain langchain-community langchain-openai sentence-transformers faiss-cpu gradio --quiet\n",
        "!pip install openai-whisper --quiet"
      ]
    },
    {
      "cell_type": "code",
      "execution_count": null,
      "metadata": {
        "id": "LzwwQwQHRIt8"
      },
      "outputs": [],
      "source": [
        "import os\n",
        "from langchain.text_splitter import RecursiveCharacterTextSplitter\n",
        "from langchain_core.documents import Document\n",
        "from langchain_community.embeddings import HuggingFaceEmbeddings\n",
        "from langchain_community.vectorstores import FAISS\n",
        "from langchain.chains import RetrievalQA\n",
        "from langchain_openai import OpenAI\n",
        "from google.colab import drive\n",
        "from google.colab import userdata\n",
        "from pathlib import Path\n",
        "from tqdm.notebook import tqdm\n",
        "from langchain.embeddings import HuggingFaceEmbeddings\n",
        "from langchain.vectorstores import FAISS\n",
        "from langchain_community.document_loaders import TextLoader\n",
        "from langchain_openai import ChatOpenAI\n",
        "from pathlib import Path\n",
        "from langchain.docstore.document import Document\n",
        "import gradio as gr\n",
        "from transformers import pipeline\n",
        "from typing import Union, List, Dict, Tuple"
      ]
    },
    {
      "cell_type": "code",
      "execution_count": 3,
      "metadata": {
        "colab": {
          "base_uri": "https://localhost:8080/"
        },
        "id": "H45TkcP9CRAZ",
        "outputId": "ac9ffaaa-b174-4a88-effe-822059faecee"
      },
      "outputs": [
        {
          "name": "stdout",
          "output_type": "stream",
          "text": [
            "Drive already mounted at /content/drive; to attempt to forcibly remount, call drive.mount(\"/content/drive\", force_remount=True).\n"
          ]
        }
      ],
      "source": [
        "from google.colab import drive\n",
        "drive.mount('/content/drive')"
      ]
    },
    {
      "cell_type": "markdown",
      "metadata": {},
      "source": [
        "## Step2: Create Chunks to the Transcripts"
      ]
    },
    {
      "cell_type": "code",
      "execution_count": 4,
      "metadata": {
        "colab": {
          "base_uri": "https://localhost:8080/",
          "height": 66,
          "referenced_widgets": [
            "63471d69d3074ab3bc7fe17858527a87",
            "83a7fb19f9a840cb999a11aa29a660ab",
            "a5d0db4ef85d415bafd7f141f992b964",
            "f8ff5599aca9402e93231b4b201aec56",
            "5159975a768d4698a9f315f24901fa9b",
            "fc9ec0642b974aca9a17f8a292844aa6",
            "b391aa9502e244cba111b56543665617",
            "23d55aad06f2423bbaa71e6e338dd3f5",
            "b2381747d1a14e7cac15623809c96061",
            "1073e3fd4ea74f28b019958f7fc36de8",
            "00da92926f3a49fe85d66b47f86e88e0"
          ]
        },
        "id": "xLmJbIPRRNuo",
        "outputId": "93b869bf-eef8-46d1-bc85-facf80d61d81"
      },
      "outputs": [
        {
          "data": {
            "application/vnd.jupyter.widget-view+json": {
              "model_id": "63471d69d3074ab3bc7fe17858527a87",
              "version_major": 2,
              "version_minor": 0
            },
            "text/plain": [
              "Chunking transcripts: 0it [00:00, ?it/s]"
            ]
          },
          "metadata": {},
          "output_type": "display_data"
        },
        {
          "name": "stdout",
          "output_type": "stream",
          "text": [
            "✅ Loaded and chunked 656 document chunks from /content/drive/MyDrive/ServiceNow_Audio_Transcripts.\n"
          ]
        }
      ],
      "source": [
        "transcript_folder = Path(\"/content/drive/MyDrive/ServiceNow_Audio_Transcripts\")\n",
        "transcript_folder.mkdir(parents=True, exist_ok=True)\n",
        "splitter = RecursiveCharacterTextSplitter(chunk_size=500, chunk_overlap=50)\n",
        "\n",
        "documents: list[Document] = []\n",
        "for txt_path in tqdm(transcript_folder.glob(\"*.txt\"), desc=\"Chunking transcripts\"):\n",
        "    raw_text = txt_path.read_text(encoding=\"utf-8\")\n",
        "    lines = raw_text.splitlines()\n",
        "    subject = lines[0] if lines else txt_path.stem  # Use first line or fallback to filename\n",
        "    for chunk in splitter.split_text(raw_text):\n",
        "        documents.append(\n",
        "            Document(page_content=chunk, metadata={\"source\": subject})\n",
        "        )\n",
        "print(f\"✅ Loaded and chunked {len(documents)} document chunks from {transcript_folder}.\")"
      ]
    },
    {
      "cell_type": "markdown",
      "metadata": {},
      "source": [
        "## Step3: Embedding & Vectorizer"
      ]
    },
    {
      "cell_type": "code",
      "execution_count": null,
      "metadata": {
        "colab": {
          "base_uri": "https://localhost:8080/"
        },
        "id": "BWl-S-b2RPuJ",
        "outputId": "b7a2e38a-d522-4d92-97f4-4a05302631f9"
      },
      "outputs": [
        {
          "name": "stderr",
          "output_type": "stream",
          "text": [
            "/tmp/ipython-input-5-1688787792.py:1: LangChainDeprecationWarning: The class `HuggingFaceEmbeddings` was deprecated in LangChain 0.2.2 and will be removed in 1.0. An updated version of the class exists in the :class:`~langchain-huggingface package and should be used instead. To use it run `pip install -U :class:`~langchain-huggingface` and import as `from :class:`~langchain_huggingface import HuggingFaceEmbeddings``.\n",
            "  embedding_model = HuggingFaceEmbeddings(model_name=\"all-MiniLM-L6-v2\")\n"
          ]
        }
      ],
      "source": [
        "embedding_model = HuggingFaceEmbeddings(model_name=\"all-MiniLM-L6-v2\")\n",
        "faiss_dir = \"/content/drive/MyDrive/faiss_store\"\n",
        "faiss_dir = Path(faiss_dir)\n",
        "Path(faiss_dir).mkdir(parents=True, exist_ok=True)\n",
        "\n",
        "faiss_index = FAISS.load_local(\n",
        "    faiss_dir,\n",
        "    embedding_model,\n",
        "    allow_dangerous_deserialization=True\n",
        ")\n",
        "retriever = faiss_index.as_retriever(search_type=\"similarity\", search_kwargs={\"k\": 5})"
      ]
    },
    {
      "cell_type": "markdown",
      "metadata": {},
      "source": [
        "## Step4: LLM Model & Retrieval"
      ]
    },
    {
      "cell_type": "code",
      "execution_count": null,
      "metadata": {
        "id": "KfvjXdnkRRbL"
      },
      "outputs": [],
      "source": [
        "llm = OpenAI(\n",
        "    temperature=0,\n",
        "    openai_api_key=userdata.get(\"OPENAI_API_KEY\")\n",
        ")\n",
        "\n",
        "qa_chain = RetrievalQA.from_chain_type(\n",
        "    llm=llm,\n",
        "    retriever=retriever,\n",
        "    return_source_documents=True\n",
        ")"
      ]
    },
    {
      "cell_type": "markdown",
      "metadata": {},
      "source": [
        "## Step5: Initiate Whisper Model Pipeline"
      ]
    },
    {
      "cell_type": "code",
      "execution_count": null,
      "metadata": {
        "colab": {
          "base_uri": "https://localhost:8080/"
        },
        "id": "gRsN5x83PJNQ",
        "outputId": "7e757393-d964-4ec7-9fa7-81c129605d80"
      },
      "outputs": [
        {
          "name": "stderr",
          "output_type": "stream",
          "text": [
            "Device set to use cuda:0\n"
          ]
        }
      ],
      "source": [
        "transcriber = pipeline(\"automatic-speech-recognition\", model=\"openai/whisper-small\")\n",
        "\n",
        "def answer_question(text_input: str, audio_input: Union[str, dict, None], chat_history: List[Dict]) -> List[Dict]:\n",
        "    question = \"\"\n",
        "    if isinstance(audio_input, str) and audio_input:\n",
        "        result = transcriber(audio_input)\n",
        "        question = result.get(\"text\", \"\").strip()\n",
        "    elif text_input:\n",
        "        question = text_input.strip()\n",
        "\n",
        "    if not question:\n",
        "        return chat_history + [{\"role\": \"assistant\", \"content\": \"❌ Please ask a question via text or audio.\"}]\n",
        "\n",
        "    try:\n",
        "        response = qa_chain(question)\n",
        "        answer = response.get(\"result\", \"❌ No answer found.\")\n",
        "        sources = []\n",
        "\n",
        "        for doc in response.get(\"source_documents\", []):\n",
        "            preview = doc.page_content[:200]\n",
        "            source = doc.metadata.get(\"source\", \"unknown\")\n",
        "            sources.append(f\"📄 {source}\\n🔎 {preview}\")\n",
        "\n",
        "        full_answer = answer + \"\\n\\n\"\n",
        "        chat_history.append({\"role\": \"user\", \"content\": question})\n",
        "        chat_history.append({\"role\": \"assistant\", \"content\": full_answer})\n",
        "        return chat_history\n",
        "\n",
        "    except Exception as e:\n",
        "        chat_history.append({\"role\": \"assistant\", \"content\": f\"❌ Error from QA chain: {e}\"})\n",
        "        return chat_history"
      ]
    },
    {
      "cell_type": "code",
      "execution_count": null,
      "metadata": {
        "colab": {
          "base_uri": "https://localhost:8080/",
          "height": 663
        },
        "id": "UbY5QDCjn3Qc",
        "outputId": "527a43f7-21e5-4da9-8a06-31ad79492113"
      },
      "outputs": [
        {
          "name": "stderr",
          "output_type": "stream",
          "text": [
            "Device set to use cuda:0\n"
          ]
        },
        {
          "name": "stdout",
          "output_type": "stream",
          "text": [
            "It looks like you are running Gradio on a hosted Jupyter notebook, which requires `share=True`. Automatically setting `share=True` (you can turn this off by setting `share=False` in `launch()` explicitly).\n",
            "\n",
            "Colab notebook detected. To show errors in colab notebook, set debug=True in launch()\n",
            "* Running on public URL: https://5071bbae932a5f3001.gradio.live\n",
            "\n",
            "This share link expires in 1 week. For free permanent hosting and GPU upgrades, run `gradio deploy` from the terminal in the working directory to deploy to Hugging Face Spaces (https://huggingface.co/spaces)\n"
          ]
        },
        {
          "data": {
            "text/html": [
              "<div><iframe src=\"https://5071bbae932a5f3001.gradio.live\" width=\"100%\" height=\"500\" allow=\"autoplay; camera; microphone; clipboard-read; clipboard-write;\" frameborder=\"0\" allowfullscreen></iframe></div>"
            ],
            "text/plain": [
              "<IPython.core.display.HTML object>"
            ]
          },
          "metadata": {},
          "output_type": "display_data"
        },
        {
          "data": {
            "text/plain": []
          },
          "execution_count": 13,
          "metadata": {},
          "output_type": "execute_result"
        }
      ],
      "source": [
        "with gr.Blocks() as demo:\n",
        "    gr.HTML(\"<h1 style='text-align: center;'>ServiceNow QA Assistant</h1>\")\n",
        "    gr.Markdown(\"<center>Type or record your question below. The bot will provide you answer</center>\")\n",
        "    chatbot = gr.Chatbot(label=\"💬 ServiceNow Assistant\", type=\"messages\", value=[\n",
        "        {\"role\": \"assistant\", \"content\": \"👋 Hi! Ask me anything about ServiceNow (text or voice).\"}\n",
        "    ])\n",
        "    with gr.Row():\n",
        "        text_input = gr.Textbox(placeholder=\"Type your ServiceNow question here...\", label=\"📝 Text\")\n",
        "        audio_input = gr.Audio(type=\"filepath\", label=\"🎙️ Upload Your Voice\")\n",
        "    submit_btn = gr.Button(\"🔍 Ask\")\n",
        "\n",
        "    submit_btn.click(fn=answer_question, inputs=[text_input, audio_input, chatbot], outputs=chatbot)\n",
        "\n",
        "demo.launch()"
      ]
    },
    {
      "cell_type": "markdown",
      "metadata": {},
      "source": [
        "## Step6: Save Code to python file to use in HuggingFace for deployment"
      ]
    },
    {
      "cell_type": "code",
      "execution_count": null,
      "metadata": {
        "id": "ulPNw3nGnzHE"
      },
      "outputs": [],
      "source": [
        "code = '''import os\n",
        "import gradio as gr\n",
        "from transformers import pipeline\n",
        "from typing import Union, List, Dict\n",
        "\n",
        "from langchain_community.embeddings import HuggingFaceEmbeddings\n",
        "from langchain_community.vectorstores import FAISS\n",
        "from langchain_openai import OpenAI\n",
        "from langchain.chains import RetrievalQA\n",
        "from langchain.docstore.document import Document\n",
        "\n",
        "embedding_model = HuggingFaceEmbeddings(model_name=\"all-MiniLM-L6-v2\")\n",
        "faiss_dir = \"/content/drive/MyDrive/faiss_store\"\n",
        "faiss_dir = Path(faiss_dir)\n",
        "Path(faiss_dir).mkdir(parents=True, exist_ok=True)\n",
        "\n",
        "faiss_index = FAISS.load_local(\n",
        "    faiss_dir,\n",
        "    embedding_model,\n",
        "    allow_dangerous_deserialization=True\n",
        ")\n",
        "\n",
        "retriever = faiss_index.as_retriever(search_type=\"similarity\", search_kwargs={\"k\": 5})\n",
        "\n",
        "openai_api_key = userdata.get('OPENAI_API_KEY')\n",
        "if not openai_api_key:\n",
        "    raise ValueError(\"❌ Set your OPENAI_API_KEY in environment or secrets.\")\n",
        "\n",
        "llm = OpenAI(temperature=0, openai_api_key=openai_api_key)\n",
        "qa_chain = RetrievalQA.from_chain_type(llm=llm, retriever=retriever, return_source_documents=True)\n",
        "\n",
        "transcriber = pipeline(\"automatic-speech-recognition\", model=\"openai/whisper-small\")\n",
        "\n",
        "def answer_question(text_input: str, audio_input: Union[str, dict, None], chat_history: List[Dict]) -> List[Dict]:\n",
        "    question = \"\"\n",
        "    if isinstance(audio_input, str) and audio_input:\n",
        "        result = transcriber(audio_input)\n",
        "        question = result.get(\"text\", \"\").strip()\n",
        "    elif text_input:\n",
        "        question = text_input.strip()\n",
        "\n",
        "    if not question:\n",
        "        return chat_history + [{\"role\": \"assistant\", \"content\": \"❌ Please ask a question via text or audio.\"}]\n",
        "\n",
        "    try:\n",
        "        response = qa_chain(question)\n",
        "        answer = response.get(\"result\", \"❌ No answer found.\")\n",
        "        sources = []\n",
        "\n",
        "        for doc in response.get(\"source_documents\", []):\n",
        "            preview = doc.page_content[:200]\n",
        "            source = doc.metadata.get(\"source\", \"unknown\")\n",
        "            sources.append(f\"📄 {source}\\n🔎 {preview}\")\n",
        "\n",
        "        full_answer = answer + \"\\n\\n\"\n",
        "        chat_history.append({\"role\": \"user\", \"content\": question})\n",
        "        chat_history.append({\"role\": \"assistant\", \"content\": full_answer})\n",
        "        return chat_history\n",
        "\n",
        "    except Exception as e:\n",
        "        chat_history.append({\"role\": \"assistant\", \"content\": f\"❌ Error from QA chain: {e}\"})\n",
        "        return chat_history\n",
        "\n",
        "with gr.Blocks() as demo:\n",
        "    gr.HTML(\"<h1 style='text-align: center;'>ServiceNow QA Assistant</h1>\")\n",
        "    gr.Markdown(\"<center>Type or record your question below. The bot will provide you answer</center>\")\n",
        "    chatbot = gr.Chatbot(label=\"💬 ServiceNow Assistant\", type=\"messages\", value=[\n",
        "        {\"role\": \"assistant\", \"content\": \"👋 Hi! Ask me anything about ServiceNow (text or voice).\"}\n",
        "    ])\n",
        "    with gr.Row():\n",
        "        text_input = gr.Textbox(placeholder=\"Type your ServiceNow question here...\", label=\"📝 Text\")\n",
        "        audio_input = gr.Audio(type=\"filepath\", label=\"🎙️ Upload Your Voice\")\n",
        "    submit_btn = gr.Button(\"🔍 Ask\")\n",
        "\n",
        "    submit_btn.click(fn=answer_question, inputs=[text_input, audio_input, chatbot], outputs=chatbot)\n",
        "\n",
        "demo.launch()\n",
        "'''\n",
        "with open(\"app.py\", \"w\") as f:\n",
        "    f.write(code)"
      ]
    },
    {
      "cell_type": "code",
      "execution_count": null,
      "metadata": {
        "id": "HQ7nGxV_XBVs"
      },
      "outputs": [],
      "source": [
        "requirements = '''gradio\n",
        "langchain\n",
        "langchain-openai\n",
        "langchain-community\n",
        "langchain-core\n",
        "sentence-transformers\n",
        "transformers\n",
        "faiss-cpu\n",
        "openai\n",
        "yt-dlp\n",
        "python-dotenv\n",
        "'''\n",
        "with open(\"requirements.txt\", \"w\") as f:\n",
        "    f.write(requirements)"
      ]
    },
    {
      "cell_type": "code",
      "execution_count": null,
      "metadata": {
        "id": "npGn2Ts2XDBD"
      },
      "outputs": [],
      "source": [
        "from google.colab import files\n",
        "files.download(\"app.py\")\n",
        "files.download(\"requirements.txt\")"
      ]
    }
  ],
  "metadata": {
    "accelerator": "GPU",
    "colab": {
      "gpuType": "T4",
      "provenance": []
    },
    "kernelspec": {
      "display_name": "Python 3",
      "name": "python3"
    },
    "language_info": {
      "name": "python",
      "version": "3.10.11"
    },
    "widgets": {
      "application/vnd.jupyter.widget-state+json": {
        "00da92926f3a49fe85d66b47f86e88e0": {
          "model_module": "@jupyter-widgets/controls",
          "model_module_version": "1.5.0",
          "model_name": "DescriptionStyleModel",
          "state": {
            "_model_module": "@jupyter-widgets/controls",
            "_model_module_version": "1.5.0",
            "_model_name": "DescriptionStyleModel",
            "_view_count": null,
            "_view_module": "@jupyter-widgets/base",
            "_view_module_version": "1.2.0",
            "_view_name": "StyleView",
            "description_width": ""
          }
        },
        "1073e3fd4ea74f28b019958f7fc36de8": {
          "model_module": "@jupyter-widgets/base",
          "model_module_version": "1.2.0",
          "model_name": "LayoutModel",
          "state": {
            "_model_module": "@jupyter-widgets/base",
            "_model_module_version": "1.2.0",
            "_model_name": "LayoutModel",
            "_view_count": null,
            "_view_module": "@jupyter-widgets/base",
            "_view_module_version": "1.2.0",
            "_view_name": "LayoutView",
            "align_content": null,
            "align_items": null,
            "align_self": null,
            "border": null,
            "bottom": null,
            "display": null,
            "flex": null,
            "flex_flow": null,
            "grid_area": null,
            "grid_auto_columns": null,
            "grid_auto_flow": null,
            "grid_auto_rows": null,
            "grid_column": null,
            "grid_gap": null,
            "grid_row": null,
            "grid_template_areas": null,
            "grid_template_columns": null,
            "grid_template_rows": null,
            "height": null,
            "justify_content": null,
            "justify_items": null,
            "left": null,
            "margin": null,
            "max_height": null,
            "max_width": null,
            "min_height": null,
            "min_width": null,
            "object_fit": null,
            "object_position": null,
            "order": null,
            "overflow": null,
            "overflow_x": null,
            "overflow_y": null,
            "padding": null,
            "right": null,
            "top": null,
            "visibility": null,
            "width": null
          }
        },
        "23d55aad06f2423bbaa71e6e338dd3f5": {
          "model_module": "@jupyter-widgets/base",
          "model_module_version": "1.2.0",
          "model_name": "LayoutModel",
          "state": {
            "_model_module": "@jupyter-widgets/base",
            "_model_module_version": "1.2.0",
            "_model_name": "LayoutModel",
            "_view_count": null,
            "_view_module": "@jupyter-widgets/base",
            "_view_module_version": "1.2.0",
            "_view_name": "LayoutView",
            "align_content": null,
            "align_items": null,
            "align_self": null,
            "border": null,
            "bottom": null,
            "display": null,
            "flex": null,
            "flex_flow": null,
            "grid_area": null,
            "grid_auto_columns": null,
            "grid_auto_flow": null,
            "grid_auto_rows": null,
            "grid_column": null,
            "grid_gap": null,
            "grid_row": null,
            "grid_template_areas": null,
            "grid_template_columns": null,
            "grid_template_rows": null,
            "height": null,
            "justify_content": null,
            "justify_items": null,
            "left": null,
            "margin": null,
            "max_height": null,
            "max_width": null,
            "min_height": null,
            "min_width": null,
            "object_fit": null,
            "object_position": null,
            "order": null,
            "overflow": null,
            "overflow_x": null,
            "overflow_y": null,
            "padding": null,
            "right": null,
            "top": null,
            "visibility": null,
            "width": "20px"
          }
        },
        "5159975a768d4698a9f315f24901fa9b": {
          "model_module": "@jupyter-widgets/base",
          "model_module_version": "1.2.0",
          "model_name": "LayoutModel",
          "state": {
            "_model_module": "@jupyter-widgets/base",
            "_model_module_version": "1.2.0",
            "_model_name": "LayoutModel",
            "_view_count": null,
            "_view_module": "@jupyter-widgets/base",
            "_view_module_version": "1.2.0",
            "_view_name": "LayoutView",
            "align_content": null,
            "align_items": null,
            "align_self": null,
            "border": null,
            "bottom": null,
            "display": null,
            "flex": null,
            "flex_flow": null,
            "grid_area": null,
            "grid_auto_columns": null,
            "grid_auto_flow": null,
            "grid_auto_rows": null,
            "grid_column": null,
            "grid_gap": null,
            "grid_row": null,
            "grid_template_areas": null,
            "grid_template_columns": null,
            "grid_template_rows": null,
            "height": null,
            "justify_content": null,
            "justify_items": null,
            "left": null,
            "margin": null,
            "max_height": null,
            "max_width": null,
            "min_height": null,
            "min_width": null,
            "object_fit": null,
            "object_position": null,
            "order": null,
            "overflow": null,
            "overflow_x": null,
            "overflow_y": null,
            "padding": null,
            "right": null,
            "top": null,
            "visibility": null,
            "width": null
          }
        },
        "63471d69d3074ab3bc7fe17858527a87": {
          "model_module": "@jupyter-widgets/controls",
          "model_module_version": "1.5.0",
          "model_name": "HBoxModel",
          "state": {
            "_dom_classes": [],
            "_model_module": "@jupyter-widgets/controls",
            "_model_module_version": "1.5.0",
            "_model_name": "HBoxModel",
            "_view_count": null,
            "_view_module": "@jupyter-widgets/controls",
            "_view_module_version": "1.5.0",
            "_view_name": "HBoxView",
            "box_style": "",
            "children": [
              "IPY_MODEL_83a7fb19f9a840cb999a11aa29a660ab",
              "IPY_MODEL_a5d0db4ef85d415bafd7f141f992b964",
              "IPY_MODEL_f8ff5599aca9402e93231b4b201aec56"
            ],
            "layout": "IPY_MODEL_5159975a768d4698a9f315f24901fa9b"
          }
        },
        "83a7fb19f9a840cb999a11aa29a660ab": {
          "model_module": "@jupyter-widgets/controls",
          "model_module_version": "1.5.0",
          "model_name": "HTMLModel",
          "state": {
            "_dom_classes": [],
            "_model_module": "@jupyter-widgets/controls",
            "_model_module_version": "1.5.0",
            "_model_name": "HTMLModel",
            "_view_count": null,
            "_view_module": "@jupyter-widgets/controls",
            "_view_module_version": "1.5.0",
            "_view_name": "HTMLView",
            "description": "",
            "description_tooltip": null,
            "layout": "IPY_MODEL_fc9ec0642b974aca9a17f8a292844aa6",
            "placeholder": "​",
            "style": "IPY_MODEL_b391aa9502e244cba111b56543665617",
            "value": "Chunking transcripts: "
          }
        },
        "a5d0db4ef85d415bafd7f141f992b964": {
          "model_module": "@jupyter-widgets/controls",
          "model_module_version": "1.5.0",
          "model_name": "FloatProgressModel",
          "state": {
            "_dom_classes": [],
            "_model_module": "@jupyter-widgets/controls",
            "_model_module_version": "1.5.0",
            "_model_name": "FloatProgressModel",
            "_view_count": null,
            "_view_module": "@jupyter-widgets/controls",
            "_view_module_version": "1.5.0",
            "_view_name": "ProgressView",
            "bar_style": "success",
            "description": "",
            "description_tooltip": null,
            "layout": "IPY_MODEL_23d55aad06f2423bbaa71e6e338dd3f5",
            "max": 1,
            "min": 0,
            "orientation": "horizontal",
            "style": "IPY_MODEL_b2381747d1a14e7cac15623809c96061",
            "value": 1
          }
        },
        "b2381747d1a14e7cac15623809c96061": {
          "model_module": "@jupyter-widgets/controls",
          "model_module_version": "1.5.0",
          "model_name": "ProgressStyleModel",
          "state": {
            "_model_module": "@jupyter-widgets/controls",
            "_model_module_version": "1.5.0",
            "_model_name": "ProgressStyleModel",
            "_view_count": null,
            "_view_module": "@jupyter-widgets/base",
            "_view_module_version": "1.2.0",
            "_view_name": "StyleView",
            "bar_color": null,
            "description_width": ""
          }
        },
        "b391aa9502e244cba111b56543665617": {
          "model_module": "@jupyter-widgets/controls",
          "model_module_version": "1.5.0",
          "model_name": "DescriptionStyleModel",
          "state": {
            "_model_module": "@jupyter-widgets/controls",
            "_model_module_version": "1.5.0",
            "_model_name": "DescriptionStyleModel",
            "_view_count": null,
            "_view_module": "@jupyter-widgets/base",
            "_view_module_version": "1.2.0",
            "_view_name": "StyleView",
            "description_width": ""
          }
        },
        "f8ff5599aca9402e93231b4b201aec56": {
          "model_module": "@jupyter-widgets/controls",
          "model_module_version": "1.5.0",
          "model_name": "HTMLModel",
          "state": {
            "_dom_classes": [],
            "_model_module": "@jupyter-widgets/controls",
            "_model_module_version": "1.5.0",
            "_model_name": "HTMLModel",
            "_view_count": null,
            "_view_module": "@jupyter-widgets/controls",
            "_view_module_version": "1.5.0",
            "_view_name": "HTMLView",
            "description": "",
            "description_tooltip": null,
            "layout": "IPY_MODEL_1073e3fd4ea74f28b019958f7fc36de8",
            "placeholder": "​",
            "style": "IPY_MODEL_00da92926f3a49fe85d66b47f86e88e0",
            "value": " 21/? [00:00&lt;00:00, 52.08it/s]"
          }
        },
        "fc9ec0642b974aca9a17f8a292844aa6": {
          "model_module": "@jupyter-widgets/base",
          "model_module_version": "1.2.0",
          "model_name": "LayoutModel",
          "state": {
            "_model_module": "@jupyter-widgets/base",
            "_model_module_version": "1.2.0",
            "_model_name": "LayoutModel",
            "_view_count": null,
            "_view_module": "@jupyter-widgets/base",
            "_view_module_version": "1.2.0",
            "_view_name": "LayoutView",
            "align_content": null,
            "align_items": null,
            "align_self": null,
            "border": null,
            "bottom": null,
            "display": null,
            "flex": null,
            "flex_flow": null,
            "grid_area": null,
            "grid_auto_columns": null,
            "grid_auto_flow": null,
            "grid_auto_rows": null,
            "grid_column": null,
            "grid_gap": null,
            "grid_row": null,
            "grid_template_areas": null,
            "grid_template_columns": null,
            "grid_template_rows": null,
            "height": null,
            "justify_content": null,
            "justify_items": null,
            "left": null,
            "margin": null,
            "max_height": null,
            "max_width": null,
            "min_height": null,
            "min_width": null,
            "object_fit": null,
            "object_position": null,
            "order": null,
            "overflow": null,
            "overflow_x": null,
            "overflow_y": null,
            "padding": null,
            "right": null,
            "top": null,
            "visibility": null,
            "width": null
          }
        }
      }
    }
  },
  "nbformat": 4,
  "nbformat_minor": 0
}
