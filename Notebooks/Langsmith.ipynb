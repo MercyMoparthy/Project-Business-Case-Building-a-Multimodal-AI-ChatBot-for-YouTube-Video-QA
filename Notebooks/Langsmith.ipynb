{
 "cells": [
  {
   "cell_type": "code",
   "execution_count": null,
   "id": "8664ad0c",
   "metadata": {},
   "outputs": [],
   "source": [
    "%pip install langsmith langchain openai faiss-cpu"
   ]
  },
  {
   "cell_type": "code",
   "execution_count": null,
   "id": "d107c4cb",
   "metadata": {},
   "outputs": [],
   "source": [
    "import os\n",
    "\n",
    "os.environ[\"LANGCHAIN_API_KEY\"] = \"LANGSMITH_API_KEY\"\n",
    "os.environ[\"LANGCHAIN_ENDPOINT\"] = \"https://api.smith.langchain.com\"\n",
    "os.environ[\"LANGCHAIN_PROJECT\"] = \"youtube-rag\""
   ]
  },
  {
   "cell_type": "code",
   "execution_count": null,
   "id": "1db2ef56",
   "metadata": {},
   "outputs": [],
   "source": [
    "from langsmith import traceable\n",
    "from langchain.chains import RetrievalQA\n",
    "from langchain.vectorstores import FAISS\n",
    "from langchain.embeddings import OpenAIEmbeddings\n",
    "from langchain.chat_models import ChatOpenAI\n",
    "\n",
    "# Load your existing retriever\n",
    "# faiss_index = FAISS.load_local(\"path_to_faiss\", OpenAIEmbeddings())\n",
    "# retriever = faiss_index.as_retriever()\n",
    "\n",
    "# Dummy retriever just for illustration\n",
    "retriever = FAISS.load_local(\"your_faiss_index\", OpenAIEmbeddings()).as_retriever()\n",
    "\n",
    "llm = ChatOpenAI(model_name=\"gpt-3.5-turbo\", temperature=0)\n",
    "\n",
    "qa_chain = RetrievalQA.from_chain_type(llm=llm, retriever=retriever)\n",
    "\n",
    "@traceable(name=\"ServiceNow QA Test\")\n",
    "def run_query(chain, query):\n",
    "    return chain.run(query)\n",
    "\n",
    "# Run a test query\n",
    "response = run_query(qa_chain, \"What is CMDB in ServiceNow?\")\n",
    "print(response)\n"
   ]
  }
 ],
 "metadata": {
  "language_info": {
   "name": "python"
  }
 },
 "nbformat": 4,
 "nbformat_minor": 5
}
