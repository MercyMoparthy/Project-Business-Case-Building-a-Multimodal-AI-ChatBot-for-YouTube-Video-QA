{
 "cells": [
  {
   "cell_type": "code",
   "execution_count": null,
   "id": "8664ad0c",
   "metadata": {},
   "outputs": [],
   "source": [
    "%pip install langsmith langchain openai faiss-cpu"
   ]
  },
  {
   "cell_type": "code",
   "execution_count": null,
   "id": "557077c9",
   "metadata": {},
   "outputs": [],
   "source": [
    "from langsmith import traceable\n",
    "from langchain_openai import OpenAI\n",
    "from langchain.prompts import PromptTemplate\n",
    "from langchain.chains import LLMChain, RetrievalQA\n",
    "from langchain_community.vectorstores import FAISS\n",
    "from langchain_community.embeddings import HuggingFaceEmbeddings\n",
    "from dotenv import load_dotenv\n",
    "import os"
   ]
  },
  {
   "cell_type": "code",
   "execution_count": null,
   "id": "d107c4cb",
   "metadata": {},
   "outputs": [],
   "source": [
    "load_dotenv() \n",
    "os.environ[\"LANGCHAIN_API_KEY\"] = \"LANGSMITH_API_KEY\"\n",
    "os.environ[\"OPENAI_API_KEY\"] = \"OPENAI_API_KEY\"\n",
    "os.environ[\"LANGCHAIN_ENDPOINT\"] = \"https://api.smith.langchain.com\"\n",
    "os.environ[\"LANGCHAIN_PROJECT\"] = \"youtube-rag\""
   ]
  },
  {
   "cell_type": "code",
   "execution_count": null,
   "id": "1db2ef56",
   "metadata": {},
   "outputs": [],
   "source": [
    "embedding_model = HuggingFaceEmbeddings(model_name=\"all-MiniLM-L6-v2\")\n",
    "faiss_index = FAISS.load_local(\"/content/drive/MyDrive/my_project/faiss_store\", embedding_model, allow_dangerous_deserialization=True)\n",
    "retriever = faiss_index.as_retriever(search_kwargs={\"k\": 5})\n",
    "\n",
    "def run_qa(query: str):\n",
    "    llm = OpenAI(temperature=0)\n",
    "    qa_chain = RetrievalQA.from_chain_type(\n",
    "        llm=llm,\n",
    "        retriever=retriever,\n",
    "        return_source_documents=True\n",
    "    )\n",
    "    return qa_chain(query)\n",
    "\n",
    "result = run_qa(\"What is CMDB in ServiceNow?\")\n",
    "print(\"Answer:\", result[\"result\"])\n",
    "print(\"Sources:\", [doc.metadata[\"source\"] for doc in result[\"source_documents\"]])\n"
   ]
  }
 ],
 "metadata": {
  "language_info": {
   "name": "python"
  }
 },
 "nbformat": 4,
 "nbformat_minor": 5
}
