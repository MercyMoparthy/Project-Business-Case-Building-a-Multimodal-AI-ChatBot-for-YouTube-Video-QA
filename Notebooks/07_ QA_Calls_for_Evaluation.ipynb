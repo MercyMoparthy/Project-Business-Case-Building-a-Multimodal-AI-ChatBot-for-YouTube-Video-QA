{
  "cells": [
    {
      "cell_type": "markdown",
      "id": "2a4a61aa",
      "metadata": {
        "id": "2a4a61aa"
      },
      "source": [
        "## Model:QA Calls For Evaluation\n",
        "Logging every call to the chain for later review/analysis"
      ]
    },
    {
      "cell_type": "code",
      "execution_count": 2,
      "id": "53bbdc13",
      "metadata": {
        "colab": {
          "base_uri": "https://localhost:8080/"
        },
        "id": "53bbdc13",
        "outputId": "ababea6f-6116-4598-b634-e5aef7c66adb"
      },
      "outputs": [
        {
          "output_type": "stream",
          "name": "stdout",
          "text": [
            "Files removed: 132\n"
          ]
        }
      ],
      "source": [
        "%pip install langchain langsmith --quiet\n",
        "%pip cache purge"
      ]
    },
    {
      "cell_type": "code",
      "execution_count": 3,
      "id": "b4c48c68",
      "metadata": {
        "id": "b4c48c68"
      },
      "outputs": [],
      "source": [
        "%pip install optimum --quiet"
      ]
    },
    {
      "cell_type": "code",
      "source": [
        "!pip install langchain_community --quiet\n",
        "!pip install langchain_openai --quiet\n",
        "!pip install huggingface_hub --quiet\n",
        "!pip install openai==0.28 --quiet"
      ],
      "metadata": {
        "colab": {
          "base_uri": "https://localhost:8080/"
        },
        "id": "t_ixGJlIlsjf",
        "outputId": "d9637530-6b4b-4c48-b925-08060915d673"
      },
      "id": "t_ixGJlIlsjf",
      "execution_count": 21,
      "outputs": [
        {
          "output_type": "stream",
          "name": "stdout",
          "text": [
            "\u001b[31mERROR: pip's dependency resolver does not currently take into account all the packages that are installed. This behaviour is the source of the following dependency conflicts.\n",
            "langchain-openai 0.3.27 requires openai<2.0.0,>=1.86.0, but you have openai 0.28.0 which is incompatible.\u001b[0m\u001b[31m\n",
            "\u001b[0m"
          ]
        }
      ]
    },
    {
      "cell_type": "code",
      "execution_count": 2,
      "id": "14271fff",
      "metadata": {
        "id": "14271fff"
      },
      "outputs": [],
      "source": [
        "from transformers import pipeline, AutoTokenizer, AutoModelForCausalLM, AutoModelForSeq2SeqLM\n",
        "from langchain.vectorstores import FAISS\n",
        "#from langchain_openai import OpenAI\n",
        "from langchain.chains import RetrievalQA\n",
        "from langchain import HuggingFaceHub\n",
        "from langchain_community.embeddings import HuggingFaceEmbeddings\n",
        "from transformers import pipeline\n",
        "from dotenv import load_dotenv\n",
        "import os\n",
        "import openai"
      ]
    },
    {
      "cell_type": "markdown",
      "id": "57a1b44c",
      "metadata": {
        "id": "57a1b44c"
      },
      "source": [
        " ## Define Pipelines"
      ]
    },
    {
      "cell_type": "code",
      "execution_count": 3,
      "id": "e3872408",
      "metadata": {
        "colab": {
          "base_uri": "https://localhost:8080/"
        },
        "id": "e3872408",
        "outputId": "29534b94-34c8-431c-bd56-90a8a1ad6511"
      },
      "outputs": [
        {
          "output_type": "stream",
          "name": "stderr",
          "text": [
            "Device set to use cuda:0\n",
            "Device set to use cuda:0\n",
            "Device set to use cuda:0\n"
          ]
        }
      ],
      "source": [
        "from transformers import pipeline\n",
        "\n",
        "hf_pipes = {\n",
        "    \"distilgpt2\": pipeline(\"text-generation\", model=\"distilgpt2\", max_new_tokens=64),\n",
        "    \"flan-t5-base\": pipeline(\"text2text-generation\", model=\"google/flan-t5-base\", max_new_tokens=64),\n",
        "    \"flan-t5-large\": pipeline(\"text2text-generation\", model=\"google/flan-t5-large\", max_new_tokens=64),\n",
        "}"
      ]
    },
    {
      "cell_type": "code",
      "source": [
        "import requests\n",
        "from google.colab import userdata\n",
        "TOGETHER_API_KEY = userdata.get('TOGETHER_TOKEN')\n",
        "\n",
        "def together_mistral_call(prompt, max_tokens=128, temp=0.0):\n",
        "    url = \"https://api.together.xyz/v1/completions\"\n",
        "    headers = {\"Authorization\": f\"Bearer {TOGETHER_API_KEY}\"}\n",
        "    payload = {\n",
        "        \"model\": \"mistralai/Mistral-7B-Instruct-v0.2\",\n",
        "        \"prompt\": prompt,\n",
        "        \"max_tokens\": max_tokens,\n",
        "        \"temperature\": temp,\n",
        "        \"stop\": None\n",
        "    }\n",
        "    response = requests.post(url, headers=headers, json=payload)\n",
        "    try:\n",
        "        result = response.json()\n",
        "        if \"choices\" in result and result[\"choices\"]:\n",
        "            return result[\"choices\"][0][\"text\"].strip()\n",
        "        elif \"error\" in result:\n",
        "            return f\"API error: {result['error']}\"\n",
        "        else:\n",
        "            return str(result)\n",
        "    except Exception as e:\n",
        "        return f\"Non-JSON response: {response.text[:200]}\""
      ],
      "metadata": {
        "id": "4TL70KOQnylR"
      },
      "id": "4TL70KOQnylR",
      "execution_count": 4,
      "outputs": []
    },
    {
      "cell_type": "code",
      "source": [
        "import openai\n",
        "\n",
        "def openai_gpt35_call(prompt):\n",
        "    response = openai.ChatCompletion.create(\n",
        "        model=\"gpt-3.5-turbo\",\n",
        "        messages=[{\"role\": \"user\", \"content\": prompt}],\n",
        "        max_tokens=64\n",
        "    )\n",
        "    return response.choices[0].message.content.strip()"
      ],
      "metadata": {
        "id": "Ui3e1to4kgZ_"
      },
      "id": "Ui3e1to4kgZ_",
      "execution_count": 5,
      "outputs": []
    },
    {
      "cell_type": "code",
      "source": [
        "test_set = [\n",
        "    {\"question\": \"What is ServiceNow?\", \"gold_answer\": \"ServiceNow is a cloud platform for digital workflows.\"},\n",
        "    {\"question\": \"Explain ITSM.\", \"gold_answer\": \"ITSM stands for IT Service Management.\"},\n",
        "]"
      ],
      "metadata": {
        "id": "xT4OtNrEklV6"
      },
      "id": "xT4OtNrEklV6",
      "execution_count": 6,
      "outputs": []
    },
    {
      "cell_type": "markdown",
      "id": "fef8119f",
      "metadata": {
        "id": "fef8119f"
      },
      "source": [
        "## Evaluation Loop"
      ]
    },
    {
      "cell_type": "code",
      "execution_count": 7,
      "id": "42792052",
      "metadata": {
        "colab": {
          "base_uri": "https://localhost:8080/"
        },
        "id": "42792052",
        "outputId": "d1f28e68-f53f-40bf-8238-2d95bd0b1f07"
      },
      "outputs": [
        {
          "output_type": "stream",
          "name": "stderr",
          "text": [
            "  0%|          | 0/2 [00:00<?, ?it/s]Setting `pad_token_id` to `eos_token_id`:50256 for open-end generation.\n",
            " 50%|█████     | 1/2 [00:04<00:04,  4.33s/it]Setting `pad_token_id` to `eos_token_id`:50256 for open-end generation.\n",
            "100%|██████████| 2/2 [00:07<00:00,  3.62s/it]\n"
          ]
        }
      ],
      "source": [
        "from tqdm import tqdm\n",
        "\n",
        "results = []\n",
        "\n",
        "for example in tqdm(test_set):\n",
        "    q = example[\"question\"]\n",
        "    gold = example[\"gold_answer\"]\n",
        "    row = {\"question\": q, \"gold_answer\": gold}\n",
        "    for name, pipe in hf_pipes.items():\n",
        "        if 'text2text' in pipe.task:\n",
        "            try:\n",
        "                out = pipe(q)[0]['generated_text']\n",
        "            except Exception as e:\n",
        "                out = str(e)\n",
        "        else:\n",
        "            try:\n",
        "                out = pipe(q)[0]['generated_text']\n",
        "            except Exception as e:\n",
        "                out = str(e)\n",
        "        row[name] = out\n",
        "    try:\n",
        "        row[\"mistral-7b\"] = together_mistral_call(q)\n",
        "    except Exception as e:\n",
        "        row[\"mistral-7b\"] = f\"Together.ai error: {e}\"\n",
        "    try:\n",
        "        row[\"gpt-3.5-turbo\"] = openai_gpt35_call(q)\n",
        "    except Exception as e:\n",
        "        row[\"gpt-3.5-turbo\"] = f\"OpenAI error: {e}\"\n",
        "\n",
        "    results.append(row)"
      ]
    },
    {
      "cell_type": "code",
      "source": [
        "for r in results[:5]:\n",
        "    print(\"Mistral output:\", repr(r.get(\"mistral-7b\", \"\")))"
      ],
      "metadata": {
        "colab": {
          "base_uri": "https://localhost:8080/"
        },
        "id": "Ld_RBGSbqCwy",
        "outputId": "673f6f9f-1b80-4cfa-fbdc-3b0af0a32dc0"
      },
      "id": "Ld_RBGSbqCwy",
      "execution_count": 8,
      "outputs": [
        {
          "output_type": "stream",
          "name": "stdout",
          "text": [
            "Mistral output: 'ServiceNow is a cloud-based IT service management (ITSM) platform that helps businesses manage and automate IT services and processes. It provides a single system of record for IT operations, enabling organizations to streamline their IT service delivery, improve service quality, and reduce costs.\\n\\nServiceNow offers a wide range of IT service management capabilities, including incident management, problem management, change management, service request management, and service level management. It also provides integration with other IT tools and systems, such as IT asset management, IT financial management, and IT operations management.\\n\\nServiceNow is used by organizations of all sizes'\n",
            "Mistral output: 'Q: What is ITSM, and why is it important for businesses?\\n\\nA: ITSM, or IT Service Management, is a set of practices, processes, and tools designed to align IT services with the needs of businesses. It helps organizations manage and deliver IT services effectively and efficiently, ensuring they meet the requirements of their customers (internal or external).\\n\\nITSM is important for businesses because it:\\n\\n1. Improves service quality: By defining and following standardized processes, ITSM helps ensure consistent, high-quality service delivery.\\n\\n2. Increases efficiency: ITSM processes'\n"
          ]
        }
      ]
    },
    {
      "cell_type": "markdown",
      "id": "0349d0e0",
      "metadata": {
        "id": "0349d0e0"
      },
      "source": [
        "## Calculate Metrics"
      ]
    },
    {
      "cell_type": "code",
      "execution_count": 9,
      "id": "5480e130",
      "metadata": {
        "id": "5480e130"
      },
      "outputs": [],
      "source": [
        "from sklearn.metrics import f1_score\n",
        "\n",
        "def token_f1(a, b):\n",
        "    a, b = set(str(a).lower().split()), set(str(b).lower().split())\n",
        "    if not a or not b:\n",
        "        return 0.0\n",
        "    common = a & b\n",
        "    precision = len(common) / len(a)\n",
        "    recall = len(common) / len(b)\n",
        "    return 2 * precision * recall / (precision + recall + 1e-8)\n",
        "model_names = list(hf_pipes.keys()) + [\"mistral-7b\", \"gpt-3.5-turbo\"]\n",
        "\n",
        "for r in results:\n",
        "    for model in model_names:\n",
        "        r[f'{model}_f1'] = token_f1(r.get(model, \"\"), r['gold_answer'])\n"
      ]
    },
    {
      "cell_type": "markdown",
      "id": "8b6c2558",
      "metadata": {
        "id": "8b6c2558"
      },
      "source": [
        "## Compare Results"
      ]
    },
    {
      "cell_type": "code",
      "execution_count": 10,
      "id": "06e4d3c9",
      "metadata": {
        "colab": {
          "base_uri": "https://localhost:8080/"
        },
        "id": "06e4d3c9",
        "outputId": "74e62077-99ee-4d44-9536-835861a80156"
      },
      "outputs": [
        {
          "output_type": "stream",
          "name": "stdout",
          "text": [
            "distilgpt2_f1       0.090909\n",
            "flan-t5-base_f1     0.363971\n",
            "flan-t5-large_f1    0.319298\n",
            "mistral-7b_f1       0.132165\n",
            "gpt-3.5-turbo_f1    0.103778\n",
            "dtype: float64\n"
          ]
        }
      ],
      "source": [
        "from sklearn.metrics import f1_score\n",
        "\n",
        "def token_f1(a, b):\n",
        "    a, b = set(a.lower().split()), set(b.lower().split())\n",
        "    if not a or not b: return 0.0\n",
        "    common = a & b\n",
        "    precision = len(common)/len(a)\n",
        "    recall = len(common)/len(b)\n",
        "    return 2*precision*recall/(precision+recall+1e-8)\n",
        "\n",
        "import pandas as pd\n",
        "df = pd.DataFrame(results)\n",
        "\n",
        "for model in [\"distilgpt2\", \"flan-t5-base\", \"flan-t5-large\", \"mistral-7b\", \"gpt-3.5-turbo\"]:\n",
        "    df[f\"{model}_f1\"] = df.apply(lambda r: token_f1(str(r[model]), str(r[\"gold_answer\"])), axis=1)\n",
        "\n",
        "print(df[[f\"{model}_f1\" for model in [\"distilgpt2\", \"flan-t5-base\", \"flan-t5-large\", \"mistral-7b\", \"gpt-3.5-turbo\"]]].mean())\n"
      ]
    },
    {
      "cell_type": "code",
      "source": [
        "for i, row in enumerate(results):\n",
        "    print(f\"Q: {row['question']}\")\n",
        "    print(f\"Mistral-7B: {row.get('mistral-7b', '')}\")\n",
        "    print(f\"Flan-T5-Base: {row.get('flan-t5-base', '')}\")\n",
        "    print(f\"GPT-3.5-turbo: {row.get('gpt-3.5-turbo', '')}\")\n",
        "    print(\"---\")\n",
        "    if i > 3: break"
      ],
      "metadata": {
        "colab": {
          "base_uri": "https://localhost:8080/"
        },
        "id": "AIDVR-NxqoNn",
        "outputId": "f0c946fd-429e-45a1-82ee-7b9da50c067e"
      },
      "id": "AIDVR-NxqoNn",
      "execution_count": 11,
      "outputs": [
        {
          "output_type": "stream",
          "name": "stdout",
          "text": [
            "Q: What is ServiceNow?\n",
            "Mistral-7B: ServiceNow is a cloud-based IT service management (ITSM) platform that helps businesses manage and automate IT services and processes. It provides a single system of record for IT operations, enabling organizations to streamline their IT service delivery, improve service quality, and reduce costs.\n",
            "\n",
            "ServiceNow offers a wide range of IT service management capabilities, including incident management, problem management, change management, service request management, and service level management. It also provides integration with other IT tools and systems, such as IT asset management, IT financial management, and IT operations management.\n",
            "\n",
            "ServiceNow is used by organizations of all sizes\n",
            "Flan-T5-Base: ServiceNow is a software company based in Seattle, Washington.\n",
            "GPT-3.5-turbo: OpenAI error: No API key provided. You can set your API key in code using 'openai.api_key = <API-KEY>', or you can set the environment variable OPENAI_API_KEY=<API-KEY>). If your API key is stored in a file, you can point the openai module at it with 'openai.api_key_path = <PATH>'. You can generate API keys in the OpenAI web interface. See https://platform.openai.com/account/api-keys for details.\n",
            "---\n",
            "Q: Explain ITSM.\n",
            "Mistral-7B: Q: What is ITSM, and why is it important for businesses?\n",
            "\n",
            "A: ITSM, or IT Service Management, is a set of practices, processes, and tools designed to align IT services with the needs of businesses. It helps organizations manage and deliver IT services effectively and efficiently, ensuring they meet the requirements of their customers (internal or external).\n",
            "\n",
            "ITSM is important for businesses because it:\n",
            "\n",
            "1. Improves service quality: By defining and following standardized processes, ITSM helps ensure consistent, high-quality service delivery.\n",
            "\n",
            "2. Increases efficiency: ITSM processes\n",
            "Flan-T5-Base: ITSM is an acronym for Information Technology (ICT). ITSM stands for Information Technology (ICT). ITSM is an acronym for Information Technology (IT).\n",
            "GPT-3.5-turbo: OpenAI error: No API key provided. You can set your API key in code using 'openai.api_key = <API-KEY>', or you can set the environment variable OPENAI_API_KEY=<API-KEY>). If your API key is stored in a file, you can point the openai module at it with 'openai.api_key_path = <PATH>'. You can generate API keys in the OpenAI web interface. See https://platform.openai.com/account/api-keys for details.\n",
            "---\n"
          ]
        }
      ]
    },
    {
      "cell_type": "code",
      "source": [
        "import matplotlib.pyplot as plt\n",
        "\n",
        "means = df[[f\"{model}_f1\" for model in [\"distilgpt2\", \"flan-t5-base\", \"flan-t5-large\", \"mistral-7b\", \"gpt-3.5-turbo\"]]].mean()\n",
        "means.plot(kind=\"bar\", title=\"Average F1 Score per Model\")\n",
        "plt.ylabel(\"Token-level F1\")\n",
        "plt.show()"
      ],
      "metadata": {
        "colab": {
          "base_uri": "https://localhost:8080/",
          "height": 551
        },
        "id": "HCAV8Ef0kvsB",
        "outputId": "145fd26f-8b91-4375-841b-d7ca1ed1d230"
      },
      "id": "HCAV8Ef0kvsB",
      "execution_count": 12,
      "outputs": [
        {
          "output_type": "display_data",
          "data": {
            "text/plain": [
              "<Figure size 640x480 with 1 Axes>"
            ],
            "image/png": "[encoded data removed]"
          },
          "metadata": {}
        }
      ]
    },
    {
      "cell_type": "code",
      "source": [
        "import pandas as pd\n",
        "df = pd.DataFrame(results)\n",
        "df.to_csv(\"all_model_eval_results.csv\", index=False)\n",
        "df.head()"
      ],
      "metadata": {
        "colab": {
          "base_uri": "https://localhost:8080/",
          "height": 320
        },
        "id": "655m4lw4pCDy",
        "outputId": "3315b758-9f69-4645-8cea-d7b06e4d4008"
      },
      "id": "655m4lw4pCDy",
      "execution_count": 13,
      "outputs": [
        {
          "output_type": "execute_result",
          "data": {
            "text/plain": [
              "              question                                        gold_answer  \\\n",
              "0  What is ServiceNow?  ServiceNow is a cloud platform for digital wor...   \n",
              "1        Explain ITSM.             ITSM stands for IT Service Management.   \n",
              "\n",
              "                                          distilgpt2  \\\n",
              "0  What is ServiceNow?\\n\\n\\n\\n\\n\\n\\n\\n\\n\\n\\n\\n\\n\\...   \n",
              "1  Explain ITSM.\\n\\n\\n\\n\\n\\n\\n\\n\\n\\n\\n\\n\\n\\n\\n\\n\\...   \n",
              "\n",
              "                                        flan-t5-base  \\\n",
              "0  ServiceNow is a software company based in Seat...   \n",
              "1  ITSM is an acronym for Information Technology ...   \n",
              "\n",
              "                                       flan-t5-large  \\\n",
              "0  serviceNow is a cloud-based service management...   \n",
              "1  ITSM is the process of developing, deploying, ...   \n",
              "\n",
              "                                          mistral-7b  \\\n",
              "0  ServiceNow is a cloud-based IT service managem...   \n",
              "1  Q: What is ITSM, and why is it important for b...   \n",
              "\n",
              "                                       gpt-3.5-turbo  distilgpt2_f1  \\\n",
              "0  OpenAI error: No API key provided. You can set...       0.181818   \n",
              "1  OpenAI error: No API key provided. You can set...       0.000000   \n",
              "\n",
              "   flan-t5-base_f1  flan-t5-large_f1  mistral-7b_f1  gpt-3.5-turbo_f1  \n",
              "0         0.352941          0.533333       0.144928          0.122449  \n",
              "1         0.375000          0.105263       0.119403          0.085106  "
            ],
            "text/html": [
              "\n",
              "  <div id=\"df-906913d8-0fa5-4ca2-92ca-3572c2f7544f\" class=\"colab-df-container\">\n",
              "    <div>\n",
              "<style scoped>\n",
              "    .dataframe tbody tr th:only-of-type {\n",
              "        vertical-align: middle;\n",
              "    }\n",
              "\n",
              "    .dataframe tbody tr th {\n",
              "        vertical-align: top;\n",
              "    }\n",
              "\n",
              "    .dataframe thead th {\n",
              "        text-align: right;\n",
              "    }\n",
              "</style>\n",
              "<table border=\"1\" class=\"dataframe\">\n",
              "  <thead>\n",
              "    <tr style=\"text-align: right;\">\n",
              "      <th></th>\n",
              "      <th>question</th>\n",
              "      <th>gold_answer</th>\n",
              "      <th>distilgpt2</th>\n",
              "      <th>flan-t5-base</th>\n",
              "      <th>flan-t5-large</th>\n",
              "      <th>mistral-7b</th>\n",
              "      <th>gpt-3.5-turbo</th>\n",
              "      <th>distilgpt2_f1</th>\n",
              "      <th>flan-t5-base_f1</th>\n",
              "      <th>flan-t5-large_f1</th>\n",
              "      <th>mistral-7b_f1</th>\n",
              "      <th>gpt-3.5-turbo_f1</th>\n",
              "    </tr>\n",
              "  </thead>\n",
              "  <tbody>\n",
              "    <tr>\n",
              "      <th>0</th>\n",
              "      <td>What is ServiceNow?</td>\n",
              "      <td>ServiceNow is a cloud platform for digital wor...</td>\n",
              "      <td>What is ServiceNow?\\n\\n\\n\\n\\n\\n\\n\\n\\n\\n\\n\\n\\n\\...</td>\n",
              "      <td>ServiceNow is a software company based in Seat...</td>\n",
              "      <td>serviceNow is a cloud-based service management...</td>\n",
              "      <td>ServiceNow is a cloud-based IT service managem...</td>\n",
              "      <td>OpenAI error: No API key provided. You can set...</td>\n",
              "      <td>0.181818</td>\n",
              "      <td>0.352941</td>\n",
              "      <td>0.533333</td>\n",
              "      <td>0.144928</td>\n",
              "      <td>0.122449</td>\n",
              "    </tr>\n",
              "    <tr>\n",
              "      <th>1</th>\n",
              "      <td>Explain ITSM.</td>\n",
              "      <td>ITSM stands for IT Service Management.</td>\n",
              "      <td>Explain ITSM.\\n\\n\\n\\n\\n\\n\\n\\n\\n\\n\\n\\n\\n\\n\\n\\n\\...</td>\n",
              "      <td>ITSM is an acronym for Information Technology ...</td>\n",
              "      <td>ITSM is the process of developing, deploying, ...</td>\n",
              "      <td>Q: What is ITSM, and why is it important for b...</td>\n",
              "      <td>OpenAI error: No API key provided. You can set...</td>\n",
              "      <td>0.000000</td>\n",
              "      <td>0.375000</td>\n",
              "      <td>0.105263</td>\n",
              "      <td>0.119403</td>\n",
              "      <td>0.085106</td>\n",
              "    </tr>\n",
              "  </tbody>\n",
              "</table>\n",
              "</div>\n",
              "    <div class=\"colab-df-buttons\">\n",
              "\n",
              "  <div class=\"colab-df-container\">\n",
              "    <button class=\"colab-df-convert\" onclick=\"convertToInteractive('df-906913d8-0fa5-4ca2-92ca-3572c2f7544f')\"\n",
              "            title=\"Convert this dataframe to an interactive table.\"\n",
              "            style=\"display:none;\">\n",
              "\n",
              "  <svg xmlns=\"http://www.w3.org/2000/svg\" height=\"24px\" viewBox=\"0 -960 960 960\">\n",
              "    <path d=\"M120-120v-720h720v720H120Zm60-500h600v-160H180v160Zm220 220h160v-160H400v160Zm0 220h160v-160H400v160ZM180-400h160v-160H180v160Zm440 0h160v-160H620v160ZM180-180h160v-160H180v160Zm440 0h160v-160H620v160Z\"/>\n",
              "  </svg>\n",
              "    </button>\n",
              "\n",
              "  <style>\n",
              "    .colab-df-container {\n",
              "      display:flex;\n",
              "      gap: 12px;\n",
              "    }\n",
              "\n",
              "    .colab-df-convert {\n",
              "      background-color: #E8F0FE;\n",
              "      border: none;\n",
              "      border-radius: 50%;\n",
              "      cursor: pointer;\n",
              "      display: none;\n",
              "      fill: #1967D2;\n",
              "      height: 32px;\n",
              "      padding: 0 0 0 0;\n",
              "      width: 32px;\n",
              "    }\n",
              "\n",
              "    .colab-df-convert:hover {\n",
              "      background-color: #E2EBFA;\n",
              "      box-shadow: 0px 1px 2px rgba(60, 64, 67, 0.3), 0px 1px 3px 1px rgba(60, 64, 67, 0.15);\n",
              "      fill: #174EA6;\n",
              "    }\n",
              "\n",
              "    .colab-df-buttons div {\n",
              "      margin-bottom: 4px;\n",
              "    }\n",
              "\n",
              "    [theme=dark] .colab-df-convert {\n",
              "      background-color: #3B4455;\n",
              "      fill: #D2E3FC;\n",
              "    }\n",
              "\n",
              "    [theme=dark] .colab-df-convert:hover {\n",
              "      background-color: #434B5C;\n",
              "      box-shadow: 0px 1px 3px 1px rgba(0, 0, 0, 0.15);\n",
              "      filter: drop-shadow(0px 1px 2px rgba(0, 0, 0, 0.3));\n",
              "      fill: #FFFFFF;\n",
              "    }\n",
              "  </style>\n",
              "\n",
              "    <script>\n",
              "      const buttonEl =\n",
              "        document.querySelector('#df-906913d8-0fa5-4ca2-92ca-3572c2f7544f button.colab-df-convert');\n",
              "      buttonEl.style.display =\n",
              "        google.colab.kernel.accessAllowed ? 'block' : 'none';\n",
              "\n",
              "      async function convertToInteractive(key) {\n",
              "        const element = document.querySelector('#df-906913d8-0fa5-4ca2-92ca-3572c2f7544f');\n",
              "        const dataTable =\n",
              "          await google.colab.kernel.invokeFunction('convertToInteractive',\n",
              "                                                    [key], {});\n",
              "        if (!dataTable) return;\n",
              "\n",
              "        const docLinkHtml = 'Like what you see? Visit the ' +\n",
              "          '<a target=\"_blank\" href=https://colab.research.google.com/notebooks/data_table.ipynb>data table notebook</a>'\n",
              "          + ' to learn more about interactive tables.';\n",
              "        element.innerHTML = '';\n",
              "        dataTable['output_type'] = 'display_data';\n",
              "        await google.colab.output.renderOutput(dataTable, element);\n",
              "        const docLink = document.createElement('div');\n",
              "        docLink.innerHTML = docLinkHtml;\n",
              "        element.appendChild(docLink);\n",
              "      }\n",
              "    </script>\n",
              "  </div>\n",
              "\n",
              "\n",
              "    <div id=\"df-ef614169-23f9-4118-938b-1c719ba14192\">\n",
              "      <button class=\"colab-df-quickchart\" onclick=\"quickchart('df-ef614169-23f9-4118-938b-1c719ba14192')\"\n",
              "                title=\"Suggest charts\"\n",
              "                style=\"display:none;\">\n",
              "\n",
              "<svg xmlns=\"http://www.w3.org/2000/svg\" height=\"24px\"viewBox=\"0 0 24 24\"\n",
              "     width=\"24px\">\n",
              "    <g>\n",
              "        <path d=\"M19 3H5c-1.1 0-2 .9-2 2v14c0 1.1.9 2 2 2h14c1.1 0 2-.9 2-2V5c0-1.1-.9-2-2-2zM9 17H7v-7h2v7zm4 0h-2V7h2v10zm4 0h-2v-4h2v4z\"/>\n",
              "    </g>\n",
              "</svg>\n",
              "      </button>\n",
              "\n",
              "<style>\n",
              "  .colab-df-quickchart {\n",
              "      --bg-color: #E8F0FE;\n",
              "      --fill-color: #1967D2;\n",
              "      --hover-bg-color: #E2EBFA;\n",
              "      --hover-fill-color: #174EA6;\n",
              "      --disabled-fill-color: #AAA;\n",
              "      --disabled-bg-color: #DDD;\n",
              "  }\n",
              "\n",
              "  [theme=dark] .colab-df-quickchart {\n",
              "      --bg-color: #3B4455;\n",
              "      --fill-color: #D2E3FC;\n",
              "      --hover-bg-color: #434B5C;\n",
              "      --hover-fill-color: #FFFFFF;\n",
              "      --disabled-bg-color: #3B4455;\n",
              "      --disabled-fill-color: #666;\n",
              "  }\n",
              "\n",
              "  .colab-df-quickchart {\n",
              "    background-color: var(--bg-color);\n",
              "    border: none;\n",
              "    border-radius: 50%;\n",
              "    cursor: pointer;\n",
              "    display: none;\n",
              "    fill: var(--fill-color);\n",
              "    height: 32px;\n",
              "    padding: 0;\n",
              "    width: 32px;\n",
              "  }\n",
              "\n",
              "  .colab-df-quickchart:hover {\n",
              "    background-color: var(--hover-bg-color);\n",
              "    box-shadow: 0 1px 2px rgba(60, 64, 67, 0.3), 0 1px 3px 1px rgba(60, 64, 67, 0.15);\n",
              "    fill: var(--button-hover-fill-color);\n",
              "  }\n",
              "\n",
              "  .colab-df-quickchart-complete:disabled,\n",
              "  .colab-df-quickchart-complete:disabled:hover {\n",
              "    background-color: var(--disabled-bg-color);\n",
              "    fill: var(--disabled-fill-color);\n",
              "    box-shadow: none;\n",
              "  }\n",
              "\n",
              "  .colab-df-spinner {\n",
              "    border: 2px solid var(--fill-color);\n",
              "    border-color: transparent;\n",
              "    border-bottom-color: var(--fill-color);\n",
              "    animation:\n",
              "      spin 1s steps(1) infinite;\n",
              "  }\n",
              "\n",
              "  @keyframes spin {\n",
              "    0% {\n",
              "      border-color: transparent;\n",
              "      border-bottom-color: var(--fill-color);\n",
              "      border-left-color: var(--fill-color);\n",
              "    }\n",
              "    20% {\n",
              "      border-color: transparent;\n",
              "      border-left-color: var(--fill-color);\n",
              "      border-top-color: var(--fill-color);\n",
              "    }\n",
              "    30% {\n",
              "      border-color: transparent;\n",
              "      border-left-color: var(--fill-color);\n",
              "      border-top-color: var(--fill-color);\n",
              "      border-right-color: var(--fill-color);\n",
              "    }\n",
              "    40% {\n",
              "      border-color: transparent;\n",
              "      border-right-color: var(--fill-color);\n",
              "      border-top-color: var(--fill-color);\n",
              "    }\n",
              "    60% {\n",
              "      border-color: transparent;\n",
              "      border-right-color: var(--fill-color);\n",
              "    }\n",
              "    80% {\n",
              "      border-color: transparent;\n",
              "      border-right-color: var(--fill-color);\n",
              "      border-bottom-color: var(--fill-color);\n",
              "    }\n",
              "    90% {\n",
              "      border-color: transparent;\n",
              "      border-bottom-color: var(--fill-color);\n",
              "    }\n",
              "  }\n",
              "</style>\n",
              "\n",
              "      <script>\n",
              "        async function quickchart(key) {\n",
              "          const quickchartButtonEl =\n",
              "            document.querySelector('#' + key + ' button');\n",
              "          quickchartButtonEl.disabled = true;  // To prevent multiple clicks.\n",
              "          quickchartButtonEl.classList.add('colab-df-spinner');\n",
              "          try {\n",
              "            const charts = await google.colab.kernel.invokeFunction(\n",
              "                'suggestCharts', [key], {});\n",
              "          } catch (error) {\n",
              "            console.error('Error during call to suggestCharts:', error);\n",
              "          }\n",
              "          quickchartButtonEl.classList.remove('colab-df-spinner');\n",
              "          quickchartButtonEl.classList.add('colab-df-quickchart-complete');\n",
              "        }\n",
              "        (() => {\n",
              "          let quickchartButtonEl =\n",
              "            document.querySelector('#df-ef614169-23f9-4118-938b-1c719ba14192 button');\n",
              "          quickchartButtonEl.style.display =\n",
              "            google.colab.kernel.accessAllowed ? 'block' : 'none';\n",
              "        })();\n",
              "      </script>\n",
              "    </div>\n",
              "\n",
              "    </div>\n",
              "  </div>\n"
            ],
            "application/vnd.google.colaboratory.intrinsic+json": {
              "type": "dataframe",
              "variable_name": "df",
              "summary": "{\n  \"name\": \"df\",\n  \"rows\": 2,\n  \"fields\": [\n    {\n      \"column\": \"question\",\n      \"properties\": {\n        \"dtype\": \"string\",\n        \"num_unique_values\": 2,\n        \"samples\": [\n          \"Explain ITSM.\",\n          \"What is ServiceNow?\"\n        ],\n        \"semantic_type\": \"\",\n        \"description\": \"\"\n      }\n    },\n    {\n      \"column\": \"gold_answer\",\n      \"properties\": {\n        \"dtype\": \"string\",\n        \"num_unique_values\": 2,\n        \"samples\": [\n          \"ITSM stands for IT Service Management.\",\n          \"ServiceNow is a cloud platform for digital workflows.\"\n        ],\n        \"semantic_type\": \"\",\n        \"description\": \"\"\n      }\n    },\n    {\n      \"column\": \"distilgpt2\",\n      \"properties\": {\n        \"dtype\": \"string\",\n        \"num_unique_values\": 2,\n        \"samples\": [\n          \"Explain ITSM.\\n\\n\\n\\n\\n\\n\\n\\n\\n\\n\\n\\n\\n\\n\\n\\n\\n\\n\\n\\n\\n\\n\\n\\n\\n\\n\\n\\n\\n\\n\\n\\n\\n\\n\\n\\n\\n\\n\\n\\n\\n\\n\\n\\n\\n\\n\\n\\n\\n\\n\\n\\n\\n\\n\\n\\n\\n\\n\\n\\n\\n\\n\\n\\n\",\n          \"What is ServiceNow?\\n\\n\\n\\n\\n\\n\\n\\n\\n\\n\\n\\n\\n\\n\\n\\n\\n\\n\\n\\n\\n\\n\\n\\n\\n\\n\\n\\n\\n\\n\\n\\n\\n\\n\\n\\n\\n\\n\\n\\n\\n\\n\\n\\n\\n\\n\\n\\n\\n\\n\\n\\n\\n\\n\\n\\n\\n\\n\\n\\n\\n\\n\\n\\n\"\n        ],\n        \"semantic_type\": \"\",\n        \"description\": \"\"\n      }\n    },\n    {\n      \"column\": \"flan-t5-base\",\n      \"properties\": {\n        \"dtype\": \"string\",\n        \"num_unique_values\": 2,\n        \"samples\": [\n          \"ITSM is an acronym for Information Technology (ICT). ITSM stands for Information Technology (ICT). ITSM is an acronym for Information Technology (IT).\",\n          \"ServiceNow is a software company based in Seattle, Washington.\"\n        ],\n        \"semantic_type\": \"\",\n        \"description\": \"\"\n      }\n    },\n    {\n      \"column\": \"flan-t5-large\",\n      \"properties\": {\n        \"dtype\": \"string\",\n        \"num_unique_values\": 2,\n        \"samples\": [\n          \"ITSM is the process of developing, deploying, maintaining, and supporting information technology systems.\",\n          \"serviceNow is a cloud-based service management platform\"\n        ],\n        \"semantic_type\": \"\",\n        \"description\": \"\"\n      }\n    },\n    {\n      \"column\": \"mistral-7b\",\n      \"properties\": {\n        \"dtype\": \"string\",\n        \"num_unique_values\": 2,\n        \"samples\": [\n          \"Q: What is ITSM, and why is it important for businesses?\\n\\nA: ITSM, or IT Service Management, is a set of practices, processes, and tools designed to align IT services with the needs of businesses. It helps organizations manage and deliver IT services effectively and efficiently, ensuring they meet the requirements of their customers (internal or external).\\n\\nITSM is important for businesses because it:\\n\\n1. Improves service quality: By defining and following standardized processes, ITSM helps ensure consistent, high-quality service delivery.\\n\\n2. Increases efficiency: ITSM processes\",\n          \"ServiceNow is a cloud-based IT service management (ITSM) platform that helps businesses manage and automate IT services and processes. It provides a single system of record for IT operations, enabling organizations to streamline their IT service delivery, improve service quality, and reduce costs.\\n\\nServiceNow offers a wide range of IT service management capabilities, including incident management, problem management, change management, service request management, and service level management. It also provides integration with other IT tools and systems, such as IT asset management, IT financial management, and IT operations management.\\n\\nServiceNow is used by organizations of all sizes\"\n        ],\n        \"semantic_type\": \"\",\n        \"description\": \"\"\n      }\n    },\n    {\n      \"column\": \"gpt-3.5-turbo\",\n      \"properties\": {\n        \"dtype\": \"string\",\n        \"num_unique_values\": 1,\n        \"samples\": [\n          \"OpenAI error: No API key provided. You can set your API key in code using 'openai.api_key = <API-KEY>', or you can set the environment variable OPENAI_API_KEY=<API-KEY>). If your API key is stored in a file, you can point the openai module at it with 'openai.api_key_path = <PATH>'. You can generate API keys in the OpenAI web interface. See https://platform.openai.com/account/api-keys for details.\"\n        ],\n        \"semantic_type\": \"\",\n        \"description\": \"\"\n      }\n    },\n    {\n      \"column\": \"distilgpt2_f1\",\n      \"properties\": {\n        \"dtype\": \"number\",\n        \"std\": 0.12856486650159335,\n        \"min\": 0.0,\n        \"max\": 0.18181817785123974,\n        \"num_unique_values\": 2,\n        \"samples\": [\n          0.0\n        ],\n        \"semantic_type\": \"\",\n        \"description\": \"\"\n      }\n    },\n    {\n      \"column\": \"flan-t5-base_f1\",\n      \"properties\": {\n        \"dtype\": \"number\",\n        \"std\": 0.015597943911381574,\n        \"min\": 0.35294117148788934,\n        \"max\": 0.3749999953125,\n        \"num_unique_values\": 2,\n        \"samples\": [\n          0.3749999953125\n        ],\n        \"semantic_type\": \"\",\n        \"description\": \"\"\n      }\n    },\n    {\n      \"column\": \"flan-t5-large_f1\",\n      \"properties\": {\n        \"dtype\": \"number\",\n        \"std\": 0.30269132341216765,\n        \"min\": 0.10526315357340738,\n        \"max\": 0.5333333283555556,\n        \"num_unique_values\": 2,\n        \"samples\": [\n          0.10526315357340738\n        ],\n        \"semantic_type\": \"\",\n        \"description\": \"\"\n      }\n    },\n    {\n      \"column\": \"mistral-7b_f1\",\n      \"properties\": {\n        \"dtype\": \"number\",\n        \"std\": 0.018048582913523608,\n        \"min\": 0.11940298344397418,\n        \"max\": 0.14492753418189458,\n        \"num_unique_values\": 2,\n        \"samples\": [\n          0.11940298344397418\n        ],\n        \"semantic_type\": \"\",\n        \"description\": \"\"\n      }\n    },\n    {\n      \"column\": \"gpt-3.5-turbo_f1\",\n      \"properties\": {\n        \"dtype\": \"number\",\n        \"std\": 0.026405202935197773,\n        \"min\": 0.08510638075147131,\n        \"max\": 0.12244897685964186,\n        \"num_unique_values\": 2,\n        \"samples\": [\n          0.08510638075147131\n        ],\n        \"semantic_type\": \"\",\n        \"description\": \"\"\n      }\n    }\n  ]\n}"
            }
          },
          "metadata": {},
          "execution_count": 13
        }
      ]
    },
    {
      "cell_type": "markdown",
      "source": [
        "## LLM Loop Evaluation"
      ],
      "metadata": {
        "id": "si9zXGOSveCb"
      },
      "id": "si9zXGOSveCb"
    },
    {
      "cell_type": "code",
      "source": [
        "def build_judge_prompt(question, gold_answer, model_answer):\n",
        "    return (\n",
        "        f\"You are a helpful expert assistant evaluating an answer to a question.\\n\"\n",
        "        f\"Question: {question}\\n\"\n",
        "        f\"Reference answer: {gold_answer}\\n\"\n",
        "        f\"Model answer: {model_answer}\\n\"\n",
        "        \"Is the model answer factually correct and complete with respect to the reference answer? \"\n",
        "        \"Reply only with 'Yes' or 'No' and a very short reason.\"\n",
        "    )\n"
      ],
      "metadata": {
        "id": "fQ2zxubytdT2"
      },
      "id": "fQ2zxubytdT2",
      "execution_count": 14,
      "outputs": []
    },
    {
      "cell_type": "code",
      "source": [
        "import openai\n",
        "\n",
        "def llm_judge_eval(question, gold_answer, model_answer):\n",
        "    prompt = build_judge_prompt(question, gold_answer, model_answer)\n",
        "    response = openai.ChatCompletion.create(\n",
        "        model=\"gpt-3.5-turbo\",\n",
        "        messages=[{\"role\": \"user\", \"content\": prompt}],\n",
        "        max_tokens=32,\n",
        "        temperature=0.0,\n",
        "    )\n",
        "    reply = response.choices[0].message.content.strip()\n",
        "    # Parse \"Yes\" or \"No\" from reply (optional: also save reason)\n",
        "    if reply.lower().startswith(\"yes\"):\n",
        "        return 1\n",
        "    elif reply.lower().startswith(\"no\"):\n",
        "        return 0\n",
        "    else:\n",
        "        return None  # or handle as needed"
      ],
      "metadata": {
        "id": "1kDxc6sStfTn"
      },
      "id": "1kDxc6sStfTn",
      "execution_count": 15,
      "outputs": []
    },
    {
      "cell_type": "code",
      "source": [
        "openai.api_key= userdata.get('OPENAI_API_KEY')\n",
        "model_names = list(hf_pipes.keys()) + [\"mistral-7b\", \"gpt-3.5-turbo\"]\n",
        "for r in results:\n",
        "    for model in model_names:\n",
        "        r[f\"{model}_llm_judge\"] = llm_judge_eval(r[\"question\"], r[\"gold_answer\"], r.get(model, \"\"))\n"
      ],
      "metadata": {
        "id": "yaRCuayvthfw"
      },
      "id": "yaRCuayvthfw",
      "execution_count": 19,
      "outputs": []
    },
    {
      "cell_type": "code",
      "source": [
        "# If 1 = Pass, 0 = Fail\n",
        "judge_scores = {m: sum(r[f\"{m}_llm_judge\"] for r in results if r.get(f\"{m}_llm_judge\") is not None)/len([r for r in results if r.get(f\"{m}_llm_judge\") is not None]) for m in model_names}\n",
        "print(judge_scores)"
      ],
      "metadata": {
        "id": "ydd6gp9CtoK3",
        "outputId": "6515701d-aa1e-4ee1-a279-169bc75208a7",
        "colab": {
          "base_uri": "https://localhost:8080/"
        }
      },
      "id": "ydd6gp9CtoK3",
      "execution_count": 20,
      "outputs": [
        {
          "output_type": "stream",
          "name": "stdout",
          "text": [
            "{'distilgpt2': 1.0, 'flan-t5-base': 0.0, 'flan-t5-large': 1.0, 'mistral-7b': 1.0, 'gpt-3.5-turbo': 0.0}\n"
          ]
        }
      ]
    },
    {
      "cell_type": "markdown",
      "source": [
        "## Observations:\n",
        "* F1 Score Sensitivity:Models that generate accurate but paraphrased or more elaborate responses will often receive a low F1 score, even when their answers are correct and informative.\n",
        "* Paraphrasing and Robustness:During manual review, the Mistral-7B model consistently provided robust, well-structured, and contextually appropriate answers. However, because it frequently rephrased or expanded upon the gold answers, its F1 scores were lower than those of models that more closely mimicked the reference text.\n",
        "* LLM Loop Evaluation: During this Evaluation, Distilgpt2, flat-t5-latge and mistral-7b are passed the evaluation as they are having better response then flat-t5-base and gpt-3.5-turbo\n",
        "\n",
        "In this evaluation, although Flan-T5 models achieved higher F1 scores, manual inspection revealed that Mistral-7B’s answers were often more robust and contextually nuanced. This highlights the importance of not relying solely on automated scoring metrics for open-ended question answering tasks."
      ],
      "metadata": {
        "id": "TdcWRHIorHZ5"
      },
      "id": "TdcWRHIorHZ5"
    }
  ],
  "metadata": {
    "kernelspec": {
      "display_name": "Python 3",
      "name": "python3"
    },
    "language_info": {
      "codemirror_mode": {
        "name": "ipython",
        "version": 3
      },
      "file_extension": ".py",
      "mimetype": "text/x-python",
      "name": "python",
      "nbconvert_exporter": "python",
      "pygments_lexer": "ipython3",
      "version": "3.10.11"
    },
    "colab": {
      "provenance": [],
      "gpuType": "T4"
    },
    "accelerator": "GPU"
  },
  "nbformat": 4,
  "nbformat_minor": 5
}