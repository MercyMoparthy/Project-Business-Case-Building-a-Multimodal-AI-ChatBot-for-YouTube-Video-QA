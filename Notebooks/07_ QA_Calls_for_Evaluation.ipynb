{
 "cells": [
  {
   "cell_type": "markdown",
   "id": "2a4a61aa",
   "metadata": {},
   "source": [
    "## Model:QA Calls For Evaluation\n",
    "Logging every call to the chain for later review/analysis"
   ]
  },
  {
   "cell_type": "code",
   "execution_count": 1,
   "id": "53bbdc13",
   "metadata": {},
   "outputs": [
    {
     "name": "stdout",
     "output_type": "stream",
     "text": [
      "Note: you may need to restart the kernel to use updated packages.\n"
     ]
    },
    {
     "name": "stderr",
     "output_type": "stream",
     "text": [
      "\n",
      "Usage:   \n",
      "  c:\\Users\\Mercy\\.pyenv\\pyenv-win\\versions\\3.10.11\\python.exe -m pip install [options] <requirement specifier> [package-index-options] ...\n",
      "  c:\\Users\\Mercy\\.pyenv\\pyenv-win\\versions\\3.10.11\\python.exe -m pip install [options] -r <requirements file> [package-index-options] ...\n",
      "  c:\\Users\\Mercy\\.pyenv\\pyenv-win\\versions\\3.10.11\\python.exe -m pip install [options] [-e] <vcs project url> ...\n",
      "  c:\\Users\\Mercy\\.pyenv\\pyenv-win\\versions\\3.10.11\\python.exe -m pip install [options] [-e] <local project path> ...\n",
      "  c:\\Users\\Mercy\\.pyenv\\pyenv-win\\versions\\3.10.11\\python.exe -m pip install [options] <archive url/path> ...\n",
      "\n",
      "no such option: -y\n"
     ]
    },
    {
     "name": "stdout",
     "output_type": "stream",
     "text": [
      "Files removed: 0 (0 bytes)\n",
      "Note: you may need to restart the kernel to use updated packages.\n"
     ]
    },
    {
     "name": "stderr",
     "output_type": "stream",
     "text": [
      "WARNING: No matching packages\n"
     ]
    }
   ],
   "source": [
    "%pip install langchain langsmith -y\n",
    "%pip cache purge"
   ]
  },
  {
   "cell_type": "code",
   "execution_count": 1,
   "id": "e3872408",
   "metadata": {},
   "outputs": [
    {
     "name": "stdout",
     "output_type": "stream",
     "text": [
      "Python: c:\\Users\\Mercy\\.pyenv\\pyenv-win\\versions\\3.10.11\\python.exe\n",
      "langchain: 0.3.26\n",
      "langsmith: 0.4.4\n"
     ]
    }
   ],
   "source": [
    "import sys\n",
    "print(\"Python:\", sys.executable)\n",
    "\n",
    "try:\n",
    "    import langchain\n",
    "    import langsmith\n",
    "    print(\"langchain:\", langchain.__version__)\n",
    "    print(\"langsmith:\", langsmith.__version__)\n",
    "except Exception as e:\n",
    "    print(\"Import error:\", e)"
   ]
  },
  {
   "cell_type": "code",
   "execution_count": 2,
   "id": "8d68b8a1",
   "metadata": {},
   "outputs": [
    {
     "name": "stdout",
     "output_type": "stream",
     "text": [
      "['Any', 'AsyncIteratorCallbackHandler', 'DEPRECATED_LOOKUP', 'FileCallbackHandler', 'FinalStreamingStdOutCallbackHandler', 'LangChainTracer', 'StdOutCallbackHandler', 'StreamingStdOutCallbackHandler', 'TYPE_CHECKING', '__all__', '__builtins__', '__cached__', '__doc__', '__file__', '__getattr__', '__loader__', '__name__', '__package__', '__path__', '__spec__', '_import_attribute', 'collect_runs', 'create_importer', 'streaming_aiter', 'streaming_stdout_final_only', 'tracing_enabled', 'tracing_v2_enabled']\n"
     ]
    }
   ],
   "source": [
    "import langchain.callbacks\n",
    "print(dir(langchain.callbacks))"
   ]
  },
  {
   "cell_type": "code",
   "execution_count": 1,
   "id": "b371f378",
   "metadata": {},
   "outputs": [],
   "source": [
    "from langchain.vectorstores import FAISS\n",
    "from langchain_openai import OpenAI\n",
    "from langchain.chains import RetrievalQA\n",
    "from langchain import HuggingFaceHub\n",
    "from langchain_community.embeddings import HuggingFaceEmbeddings\n",
    "from dotenv import load_dotenv\n",
    "import os"
   ]
  },
  {
   "cell_type": "code",
   "execution_count": 2,
   "id": "42792052",
   "metadata": {},
   "outputs": [
    {
     "name": "stderr",
     "output_type": "stream",
     "text": [
      "C:\\Users\\Mercy\\AppData\\Local\\Temp\\ipykernel_3504\\2422398918.py:2: LangChainDeprecationWarning: The class `HuggingFaceEmbeddings` was deprecated in LangChain 0.2.2 and will be removed in 1.0. An updated version of the class exists in the :class:`~langchain-huggingface package and should be used instead. To use it run `pip install -U :class:`~langchain-huggingface` and import as `from :class:`~langchain_huggingface import HuggingFaceEmbeddings``.\n",
      "  embedding_model = HuggingFaceEmbeddings(model_name=\"all-MiniLM-L6-v2\")\n",
      "C:\\Users\\Mercy\\AppData\\Local\\Temp\\ipykernel_3504\\2422398918.py:13: LangChainDeprecationWarning: The method `Chain.__call__` was deprecated in langchain 0.1.0 and will be removed in 1.0. Use :meth:`~invoke` instead.\n",
      "  response = qa_chain({\"query\": \"How do I create a catalog item in ServiceNow?\"})\n"
     ]
    },
    {
     "name": "stdout",
     "output_type": "stream",
     "text": [
      "{'query': 'How do I create a catalog item in ServiceNow?', 'result': ' To create a catalog item in ServiceNow, you can follow these steps:\\n\\n1. Log in to your ServiceNow instance and navigate to the Service Catalog module.\\n2. Click on the \"Catalog Items\" tab.\\n3. Click on the \"New\" button to create a new catalog item.\\n4. Enter a name and description for the catalog item.\\n5. Select the category and subcategory for the item.\\n6. Choose the type of item (e.g. request, order, or task).\\n7. Configure the item\\'s variables and options.\\n8. Add any attachments or images to the item.\\n9. Set the pricing and availability for the item.\\n10. Save the catalog item.\\n\\nYou can also add additional features and options to the catalog item, such as approvals, workflows, and fulfillment tasks. Once the item is saved, it will be available for users to request through the Service Catalog.', 'source_documents': [Document(id='7f4b20e5-2113-4a3a-89b6-7b41fbcdd1c1', metadata={'chunk_id': 'chunk_127', 'video_id': 1}, page_content='item and like the health of your request management process and the nice thing about this one and the reason it called service catalog unified is because theyll not only look at the catalog item and the workflow and request you have in your service now instance but also those that you might have in another tool or on another platform in your environment with the goal of bringing together recommendation and consolidating all of those catalog item or workflow on your service now instance and create like a one stop shop for request fulfillment so to facilitate that there also workshop that are included a part of this service they focus on service catalog and request management process a you can imagine and there also demo that the consultant will provide around different service catalog tool like catalog builder flow designer employee center and those are all tailored based on the finding of the assessment and basically the maturity and posture of your service catalog process so for'), Document(id='3d60e8a4-f37d-4953-8877-61eaa1981836', metadata={'chunk_id': 'chunk_126', 'video_id': 1}, page_content='on those recommendation and on those finding but those finding and the recommendation are all kind of packaged up for the customer to take the next step with that make sense so you mentioned using our health scan tool for example but are there other specific service you can talk about or maybe one that would be of interest to our audience yeah we have a few in this area and some are product specific one thats near and dear to my heart because i have a background in service catalog and service portfolio and it service management is a service called service catalog unified and again an advisory service so it includes an assessment of essentially a customer service catalog and request management posture and maturity and a consultant will come in and do an assessment mostly a manual assessment looking at the different catalog item and like the health of your request management process and the nice thing about this one and the reason it called service catalog unified is'), Document(id='51559d77-6a39-40be-b3e5-f5531e7dbc4d', metadata={'chunk_id': 'chunk_285', 'video_id': 1}, page_content='add custom tag using tag in this way ha many benefit including better visibility and better understanding of business context when working with alert and outage adding custom image make it easy to visually identify connection within a large set when setting up custom integration field mapping help reconcile various field from other source with the one used by servicenow to begin this process amelia paced json code shes copied from pingdum certain mandatory field must be configured at a minimum amelia finish up by configuring any additional field mapping needed based on what pingdum is providing a defined in the json snippet and just like before amelia copy the url that she need to complete thing from the pingdum side and after doing that the team will then be able to see pingdum alert a well in itam event management integration launchpad provides the ability to check activity and work with the team installed connection including the one amelia just configured average log per minute'), Document(id='8d525e38-ab69-421c-84dc-1bc862d3b101', metadata={'chunk_id': 'chunk_128', 'video_id': 1}, page_content='and those are all tailored based on the finding of the assessment and basically the maturity and posture of your service catalog process so for example if the finding suggest that using order guide would be like a great way to bring together a bunch of related catalog item and workflow that might be spread out across your environment then well take extra time to focus on order guide a part of those platform demo and basically enable the customer on that tool that capability that application so that they can take those finding and act on them and this one typically a seven week engagement and again you walk away with those finding and recommendation for next step along with the enablement through the workshop and the platform demo well you must have read my mind because i wa wondering how long your service typically take so this one is seven week so one you mentioned before implementation design i presume it varies depending on the workflow it doe it varies by workflow and because of'), Document(id='732010d6-8f7c-4c7a-b722-e9fa2a38cd26', metadata={'chunk_id': 'chunk_278', 'video_id': 1}, page_content='evans from the technical product and solution marketing team at servicenow were going to talk about servicenow it operation management specifically aiops and event management aiops or artificial intelligence for it operation is the practice of using ai to assist and help automate the work of it operation using ai fundamental like machine learning and pattern recognition servicenows aiops solution provides much needed help for operation team and to multiplatform integration itom event management put all the important event log and metric team need to do their job right at their fingertip amelia bryant from the it operation team is troubleshooting an issue with a critical service related to her company customer payment portal shes logged in and working with the service operation workspace expresslist expresslist enables team to quickly triage and resolve issue issue that are otherwise hard to spot in unstructured and out of context metric log and event')]}\n"
     ]
    }
   ],
   "source": [
    "# Build your chain\n",
    "embedding_model = HuggingFaceEmbeddings(model_name=\"all-MiniLM-L6-v2\")\n",
    "faiss_index = FAISS.load_local(\"../faiss_store\", embedding_model, allow_dangerous_deserialization=True)\n",
    "retriever = faiss_index.as_retriever(search_kwargs={\"k\": 5})\n",
    "llm = OpenAI(temperature=0, openai_api_key=os.getenv(\"OPENAI_API_KEY\"))\n",
    "\n",
    "qa_chain = RetrievalQA.from_chain_type(\n",
    "    llm=llm,\n",
    "    retriever=retriever,\n",
    "    return_source_documents=True\n",
    ")\n",
    "\n",
    "response = qa_chain({\"query\": \"How do I create a catalog item in ServiceNow?\"})\n",
    "print(response)"
   ]
  },
  {
   "cell_type": "code",
   "execution_count": 7,
   "id": "75a9f921",
   "metadata": {},
   "outputs": [
    {
     "data": {
      "application/vnd.jupyter.widget-view+json": {
       "model_id": "f8a107813e4e43449c49f6b58d86ed58",
       "version_major": 2,
       "version_minor": 0
      },
      "text/plain": [
       "config.json: 0.00B [00:00, ?B/s]"
      ]
     },
     "metadata": {},
     "output_type": "display_data"
    },
    {
     "name": "stderr",
     "output_type": "stream",
     "text": [
      "c:\\Users\\Mercy\\.pyenv\\pyenv-win\\versions\\3.10.11\\lib\\site-packages\\huggingface_hub\\file_download.py:143: UserWarning: `huggingface_hub` cache-system uses symlinks by default to efficiently store duplicated files but your machine does not support them in C:\\Users\\Mercy\\.cache\\huggingface\\hub\\models--google--flan-t5-small. Caching files will still work but in a degraded version that might require more space on your disk. This warning can be disabled by setting the `HF_HUB_DISABLE_SYMLINKS_WARNING` environment variable. For more details, see https://huggingface.co/docs/huggingface_hub/how-to-cache#limitations.\n",
      "To support symlinks on Windows, you either need to activate Developer Mode or to run Python as an administrator. In order to activate developer mode, see this article: https://docs.microsoft.com/en-us/windows/apps/get-started/enable-your-device-for-development\n",
      "  warnings.warn(message)\n"
     ]
    },
    {
     "data": {
      "application/vnd.jupyter.widget-view+json": {
       "model_id": "26d441ed2f6b41abab1cd482828b7e0f",
       "version_major": 2,
       "version_minor": 0
      },
      "text/plain": [
       "model.safetensors:   0%|          | 0.00/308M [00:00<?, ?B/s]"
      ]
     },
     "metadata": {},
     "output_type": "display_data"
    },
    {
     "data": {
      "application/vnd.jupyter.widget-view+json": {
       "model_id": "e7d1889667fe43019cbbdfa7f2c9bad9",
       "version_major": 2,
       "version_minor": 0
      },
      "text/plain": [
       "generation_config.json:   0%|          | 0.00/147 [00:00<?, ?B/s]"
      ]
     },
     "metadata": {},
     "output_type": "display_data"
    },
    {
     "data": {
      "application/vnd.jupyter.widget-view+json": {
       "model_id": "85619fb4fcfb4f6fb5c37595cfc06c7f",
       "version_major": 2,
       "version_minor": 0
      },
      "text/plain": [
       "tokenizer_config.json: 0.00B [00:00, ?B/s]"
      ]
     },
     "metadata": {},
     "output_type": "display_data"
    },
    {
     "data": {
      "application/vnd.jupyter.widget-view+json": {
       "model_id": "88febb94a2c643f1bcd49d0234ca8c95",
       "version_major": 2,
       "version_minor": 0
      },
      "text/plain": [
       "spiece.model:   0%|          | 0.00/792k [00:00<?, ?B/s]"
      ]
     },
     "metadata": {},
     "output_type": "display_data"
    },
    {
     "data": {
      "application/vnd.jupyter.widget-view+json": {
       "model_id": "6994351c3972460abfaf6cff26ade5bd",
       "version_major": 2,
       "version_minor": 0
      },
      "text/plain": [
       "tokenizer.json: 0.00B [00:00, ?B/s]"
      ]
     },
     "metadata": {},
     "output_type": "display_data"
    },
    {
     "data": {
      "application/vnd.jupyter.widget-view+json": {
       "model_id": "18b3019f6bf94857b69fe883a2587e9d",
       "version_major": 2,
       "version_minor": 0
      },
      "text/plain": [
       "special_tokens_map.json: 0.00B [00:00, ?B/s]"
      ]
     },
     "metadata": {},
     "output_type": "display_data"
    },
    {
     "name": "stderr",
     "output_type": "stream",
     "text": [
      "Device set to use cpu\n",
      "C:\\Users\\Mercy\\AppData\\Local\\Temp\\ipykernel_3504\\1341218130.py:5: LangChainDeprecationWarning: The class `HuggingFacePipeline` was deprecated in LangChain 0.0.37 and will be removed in 1.0. An updated version of the class exists in the :class:`~langchain-huggingface package and should be used instead. To use it run `pip install -U :class:`~langchain-huggingface` and import as `from :class:`~langchain_huggingface import HuggingFacePipeline``.\n",
      "  hf_llm = HuggingFacePipeline(pipeline=hf_pipe)\n"
     ]
    },
    {
     "name": "stdout",
     "output_type": "stream",
     "text": [
      "ITSM\n"
     ]
    }
   ],
   "source": [
    "from transformers import pipeline\n",
    "from langchain.llms import HuggingFacePipeline\n",
    "\n",
    "hf_pipe = pipeline(\"text2text-generation\", model=\"google/flan-t5-small\")\n",
    "hf_llm = HuggingFacePipeline(pipeline=hf_pipe)\n",
    "print(hf_llm(\"What is ITSM in ServiceNow?\"))"
   ]
  },
  {
   "cell_type": "code",
   "execution_count": null,
   "id": "5480e130",
   "metadata": {},
   "outputs": [
    {
     "name": "stdout",
     "output_type": "stream",
     "text": [
      "Running: openai-gpt-3.5\n",
      "{'query': 'What is ITSM in ServiceNow?', 'result': ' ITSM stands for Information Technology Service Management and it is a set of processes and tools used to manage and deliver IT services to customers. In ServiceNow, ITSM refers to the suite of products and solutions designed to help organizations manage their IT services and operations.'}\n",
      "Running: flan-t5-small\n"
     ]
    },
    {
     "name": "stderr",
     "output_type": "stream",
     "text": [
      "Token indices sequence length is longer than the specified maximum sequence length for this model (1035 > 512). Running this sequence through the model will result in indexing errors\n"
     ]
    },
    {
     "name": "stdout",
     "output_type": "stream",
     "text": [
      "{'query': 'What is ITSM in ServiceNow?', 'result': 'ITSM'}\n"
     ]
    }
   ],
   "source": [
    "chains = {\n",
    "    \"openai-gpt-3.5\": RetrievalQA.from_chain_type(llm=llm,  retriever=retriever),\n",
    "    \"flan-t5-small\":  RetrievalQA.from_chain_type(llm=hf_llm, retriever=retriever),\n",
    "}\n",
    "\n",
    "for name, chain in chains.items():\n",
    "    print(f\"Running: {name}\")\n",
    "    response = chain({\"query\": \"What is ITSM in ServiceNow?\"})\n",
    "    print(response)"
   ]
  },
  {
   "cell_type": "code",
   "execution_count": null,
   "id": "9b45e628",
   "metadata": {},
   "outputs": [
    {
     "name": "stdout",
     "output_type": "stream",
     "text": [
      "Q: What is ITSM in ServiceNow?\n",
      "Pred:  ITSM stands for Information Technology Service Management and it is a set of processes and tools used to manage and deliver IT services to customers. In ServiceNow, ITSM refers to the suite of products and solutions designed to help organizations manage their IT services and operations.\n",
      "True: ITSM\n",
      "EM: 0\n",
      "\n",
      "Q: How do I create a catalog item in ServiceNow?\n",
      "Pred:  To create a catalog item in ServiceNow, you can follow these steps:\n",
      "\n",
      "1. Log in to your ServiceNow instance and navigate to the Service Catalog module.\n",
      "2. Click on the \"Catalog Items\" tab.\n",
      "3. Click on the \"New\" button to create a new catalog item.\n",
      "4. Enter a name and description for the catalog item.\n",
      "5. Select the category and subcategory for the item.\n",
      "6. Choose the type of item (e.g. request, order, or task).\n",
      "7. Configure the item's variables and options.\n",
      "8. Add any attachments or images to the item.\n",
      "9. Set the pricing and availability for the item.\n",
      "10. Save the catalog item.\n",
      "\n",
      "You can also add additional features and options to the catalog item, such as approvals, workflows, and fulfillment tasks. Once the item is saved, it will be available for users to request through the Service Catalog.\n",
      "True: You can create a catalog item by...\n",
      "EM: 0\n",
      "\n"
     ]
    }
   ],
   "source": [
    "test_set = [\n",
    "    (\"What is ITSM in ServiceNow?\", \"ITSM\"),\n",
    "    (\"How do I create a catalog item in ServiceNow?\", \"You can create a catalog item by...\"),\n",
    "]\n",
    "for q, a_true in test_set:\n",
    "    resp = qa_chain({\"query\": q})\n",
    "    a_pred = resp[\"result\"]\n",
    "    em = int(a_pred.strip().lower() == a_true.strip().lower())\n",
    "    print(f\"Q: {q}\\nPred: {a_pred}\\nTrue: {a_true}\\nEM: {em}\\n\")"
   ]
  }
 ],
 "metadata": {
  "kernelspec": {
   "display_name": "Python 3",
   "language": "python",
   "name": "python3"
  },
  "language_info": {
   "codemirror_mode": {
    "name": "ipython",
    "version": 3
   },
   "file_extension": ".py",
   "mimetype": "text/x-python",
   "name": "python",
   "nbconvert_exporter": "python",
   "pygments_lexer": "ipython3",
   "version": "3.10.11"
  }
 },
 "nbformat": 4,
 "nbformat_minor": 5
}
