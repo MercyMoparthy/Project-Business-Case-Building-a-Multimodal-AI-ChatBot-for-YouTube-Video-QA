{
 "cells": [
  {
   "cell_type": "markdown",
   "id": "16e3d473",
   "metadata": {},
   "source": [
    "Mode1 Version 2:"
   ]
  },
  {
   "cell_type": "code",
   "execution_count": null,
   "id": "341926dd",
   "metadata": {},
   "outputs": [],
   "source": [
    "# import libraries"
   ]
  }
 ],
 "metadata": {
  "language_info": {
   "name": "python"
  }
 },
 "nbformat": 4,
 "nbformat_minor": 5
}
